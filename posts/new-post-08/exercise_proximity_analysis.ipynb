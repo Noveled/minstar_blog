{
  "cells": [
    {
      "cell_type": "markdown",
      "metadata": {},
      "source": [
        "---\n",
        "title: \"Kaggle_exercise_05\"\n",
        "author: \"minstar\"\n",
        "date: \"2023-05-20\"\n",
        "categories: [python]\n",
        "---\n",
        "kaggle 문제풀이 05\n",
        "https://www.kaggle.com/code/lsiina/exercise-proximity-analysis/edit"
      ]
    },
    {
      "cell_type": "markdown",
      "metadata": {
        "id": "1T7C09Va3Cyy"
      },
      "source": [
        "# 소개\n",
        "\n",
        "당신은 위기 대응 팀의 일원으로서 뉴욕시에서 교통사고 대응에 어떻게 병원들이 대응하고 있는지 파악하고자 합니다.\n",
        "\n",
        "<center>\n",
        "<img src=\"https://storage.googleapis.com/kaggle-media/learn/images/wamd0n7.png\" width=\"450\"><br/>\n",
        "</center>\n",
        "\n",
        "시작하기 전에 아래의 코드 셀을 실행하여 준비를 완료하세요."
      ]
    },
    {
      "cell_type": "code",
      "execution_count": null,
      "metadata": {
        "id": "daJtr59qaRx0"
      },
      "outputs": [],
      "source": [
        "!pip install geopandas"
      ]
    },
    {
      "cell_type": "code",
      "execution_count": 2,
      "metadata": {
        "id": "uZpunwhN3Cyz"
      },
      "outputs": [],
      "source": [
        "import math\n",
        "import geopandas as gpd\n",
        "import pandas as pd\n",
        "from shapely.geometry import MultiPolygon\n",
        "\n",
        "import folium\n",
        "from folium import Choropleth, Marker\n",
        "from folium.plugins import HeatMap, MarkerCluster"
      ]
    },
    {
      "cell_type": "markdown",
      "metadata": {
        "id": "-23J1uCE3Cy1"
      },
      "source": [
        "`embed_map()` 함수를 사용하여 지도를 시각화할 것입니다."
      ]
    },
    {
      "cell_type": "code",
      "execution_count": 3,
      "metadata": {
        "id": "arA-l_7A3Cy1"
      },
      "outputs": [],
      "source": [
        "def embed_map(m, file_name):\n",
        "    from IPython.display import IFrame\n",
        "    m.save(file_name)\n",
        "    return IFrame(file_name, width='100%', height='500px')"
      ]
    },
    {
      "cell_type": "markdown",
      "metadata": {
        "id": "k7ZaD2gb3Cy2"
      },
      "source": [
        "# 연습\n",
        "\n",
        "### 1) 충돌 데이터 시각화하기\n",
        "\n",
        "아래의 코드 셀을 실행하여 2013-2018년 동안의 주요 차량 충돌을 추적하는 GeoDataFrame인 `collisions`을 로드하세요."
      ]
    },
    {
      "cell_type": "code",
      "execution_count": 4,
      "metadata": {
        "colab": {
          "base_uri": "https://localhost:8080/"
        },
        "id": "1KVVRNjnajkJ",
        "outputId": "7f6d46df-1b6e-444b-b26b-d56c8d0c494f"
      },
      "outputs": [
        {
          "name": "stdout",
          "output_type": "stream",
          "text": [
            "Mounted at /content/drive\n"
          ]
        }
      ],
      "source": [
        "from google.colab import drive\n",
        "drive.mount('/content/drive')"
      ]
    },
    {
      "cell_type": "code",
      "execution_count": 6,
      "metadata": {
        "colab": {
          "base_uri": "https://localhost:8080/",
          "height": 552
        },
        "id": "OHMADa1E3Cy2",
        "outputId": "2ca7ba58-8129-4792-c9c0-c3c5afddd900"
      },
      "outputs": [
        {
          "data": {
            "text/html": [
              "\n",
              "  <div id=\"df-08c91769-e8ce-4f85-948a-b260903feb9d\">\n",
              "    <div class=\"colab-df-container\">\n",
              "      <div>\n",
              "<style scoped>\n",
              "    .dataframe tbody tr th:only-of-type {\n",
              "        vertical-align: middle;\n",
              "    }\n",
              "\n",
              "    .dataframe tbody tr th {\n",
              "        vertical-align: top;\n",
              "    }\n",
              "\n",
              "    .dataframe thead th {\n",
              "        text-align: right;\n",
              "    }\n",
              "</style>\n",
              "<table border=\"1\" class=\"dataframe\">\n",
              "  <thead>\n",
              "    <tr style=\"text-align: right;\">\n",
              "      <th></th>\n",
              "      <th>DATE</th>\n",
              "      <th>TIME</th>\n",
              "      <th>BOROUGH</th>\n",
              "      <th>ZIP CODE</th>\n",
              "      <th>LATITUDE</th>\n",
              "      <th>LONGITUDE</th>\n",
              "      <th>LOCATION</th>\n",
              "      <th>ON STREET</th>\n",
              "      <th>CROSS STRE</th>\n",
              "      <th>OFF STREET</th>\n",
              "      <th>...</th>\n",
              "      <th>CONTRIBU_2</th>\n",
              "      <th>CONTRIBU_3</th>\n",
              "      <th>CONTRIBU_4</th>\n",
              "      <th>UNIQUE KEY</th>\n",
              "      <th>VEHICLE TY</th>\n",
              "      <th>VEHICLE _1</th>\n",
              "      <th>VEHICLE _2</th>\n",
              "      <th>VEHICLE _3</th>\n",
              "      <th>VEHICLE _4</th>\n",
              "      <th>geometry</th>\n",
              "    </tr>\n",
              "  </thead>\n",
              "  <tbody>\n",
              "    <tr>\n",
              "      <th>0</th>\n",
              "      <td>07/30/2019</td>\n",
              "      <td>0:00</td>\n",
              "      <td>BRONX</td>\n",
              "      <td>10464</td>\n",
              "      <td>40.841100</td>\n",
              "      <td>-73.784960</td>\n",
              "      <td>(40.8411, -73.78496)</td>\n",
              "      <td>NaN</td>\n",
              "      <td>NaN</td>\n",
              "      <td>121       PILOT STREET</td>\n",
              "      <td>...</td>\n",
              "      <td>Unspecified</td>\n",
              "      <td>NaN</td>\n",
              "      <td>NaN</td>\n",
              "      <td>4180045</td>\n",
              "      <td>Sedan</td>\n",
              "      <td>Station Wagon/Sport Utility Vehicle</td>\n",
              "      <td>Station Wagon/Sport Utility Vehicle</td>\n",
              "      <td>NaN</td>\n",
              "      <td>NaN</td>\n",
              "      <td>POINT (1043750.211 245785.815)</td>\n",
              "    </tr>\n",
              "    <tr>\n",
              "      <th>1</th>\n",
              "      <td>07/30/2019</td>\n",
              "      <td>0:10</td>\n",
              "      <td>QUEENS</td>\n",
              "      <td>11423</td>\n",
              "      <td>40.710827</td>\n",
              "      <td>-73.770660</td>\n",
              "      <td>(40.710827, -73.77066)</td>\n",
              "      <td>JAMAICA AVENUE</td>\n",
              "      <td>188 STREET</td>\n",
              "      <td>NaN</td>\n",
              "      <td>...</td>\n",
              "      <td>NaN</td>\n",
              "      <td>NaN</td>\n",
              "      <td>NaN</td>\n",
              "      <td>4180007</td>\n",
              "      <td>Sedan</td>\n",
              "      <td>Sedan</td>\n",
              "      <td>NaN</td>\n",
              "      <td>NaN</td>\n",
              "      <td>NaN</td>\n",
              "      <td>POINT (1047831.185 198333.171)</td>\n",
              "    </tr>\n",
              "    <tr>\n",
              "      <th>2</th>\n",
              "      <td>07/30/2019</td>\n",
              "      <td>0:25</td>\n",
              "      <td>NaN</td>\n",
              "      <td>NaN</td>\n",
              "      <td>40.880318</td>\n",
              "      <td>-73.841286</td>\n",
              "      <td>(40.880318, -73.841286)</td>\n",
              "      <td>BOSTON ROAD</td>\n",
              "      <td>NaN</td>\n",
              "      <td>NaN</td>\n",
              "      <td>...</td>\n",
              "      <td>NaN</td>\n",
              "      <td>NaN</td>\n",
              "      <td>NaN</td>\n",
              "      <td>4179575</td>\n",
              "      <td>Sedan</td>\n",
              "      <td>Station Wagon/Sport Utility Vehicle</td>\n",
              "      <td>NaN</td>\n",
              "      <td>NaN</td>\n",
              "      <td>NaN</td>\n",
              "      <td>POINT (1028139.293 260041.178)</td>\n",
              "    </tr>\n",
              "    <tr>\n",
              "      <th>3</th>\n",
              "      <td>07/30/2019</td>\n",
              "      <td>0:35</td>\n",
              "      <td>MANHATTAN</td>\n",
              "      <td>10036</td>\n",
              "      <td>40.756744</td>\n",
              "      <td>-73.984590</td>\n",
              "      <td>(40.756744, -73.98459)</td>\n",
              "      <td>NaN</td>\n",
              "      <td>NaN</td>\n",
              "      <td>155       WEST 44 STREET</td>\n",
              "      <td>...</td>\n",
              "      <td>NaN</td>\n",
              "      <td>NaN</td>\n",
              "      <td>NaN</td>\n",
              "      <td>4179544</td>\n",
              "      <td>Box Truck</td>\n",
              "      <td>Station Wagon/Sport Utility Vehicle</td>\n",
              "      <td>NaN</td>\n",
              "      <td>NaN</td>\n",
              "      <td>NaN</td>\n",
              "      <td>POINT (988519.261 214979.320)</td>\n",
              "    </tr>\n",
              "    <tr>\n",
              "      <th>4</th>\n",
              "      <td>07/30/2019</td>\n",
              "      <td>10:00</td>\n",
              "      <td>BROOKLYN</td>\n",
              "      <td>11223</td>\n",
              "      <td>40.600090</td>\n",
              "      <td>-73.965910</td>\n",
              "      <td>(40.60009, -73.96591)</td>\n",
              "      <td>AVENUE T</td>\n",
              "      <td>OCEAN PARKWAY</td>\n",
              "      <td>NaN</td>\n",
              "      <td>...</td>\n",
              "      <td>NaN</td>\n",
              "      <td>NaN</td>\n",
              "      <td>NaN</td>\n",
              "      <td>4180660</td>\n",
              "      <td>Station Wagon/Sport Utility Vehicle</td>\n",
              "      <td>Bike</td>\n",
              "      <td>NaN</td>\n",
              "      <td>NaN</td>\n",
              "      <td>NaN</td>\n",
              "      <td>POINT (993716.669 157907.212)</td>\n",
              "    </tr>\n",
              "  </tbody>\n",
              "</table>\n",
              "<p>5 rows × 30 columns</p>\n",
              "</div>\n",
              "      <button class=\"colab-df-convert\" onclick=\"convertToInteractive('df-08c91769-e8ce-4f85-948a-b260903feb9d')\"\n",
              "              title=\"Convert this dataframe to an interactive table.\"\n",
              "              style=\"display:none;\">\n",
              "        \n",
              "  <svg xmlns=\"http://www.w3.org/2000/svg\" height=\"24px\"viewBox=\"0 0 24 24\"\n",
              "       width=\"24px\">\n",
              "    <path d=\"M0 0h24v24H0V0z\" fill=\"none\"/>\n",
              "    <path d=\"M18.56 5.44l.94 2.06.94-2.06 2.06-.94-2.06-.94-.94-2.06-.94 2.06-2.06.94zm-11 1L8.5 8.5l.94-2.06 2.06-.94-2.06-.94L8.5 2.5l-.94 2.06-2.06.94zm10 10l.94 2.06.94-2.06 2.06-.94-2.06-.94-.94-2.06-.94 2.06-2.06.94z\"/><path d=\"M17.41 7.96l-1.37-1.37c-.4-.4-.92-.59-1.43-.59-.52 0-1.04.2-1.43.59L10.3 9.45l-7.72 7.72c-.78.78-.78 2.05 0 2.83L4 21.41c.39.39.9.59 1.41.59.51 0 1.02-.2 1.41-.59l7.78-7.78 2.81-2.81c.8-.78.8-2.07 0-2.86zM5.41 20L4 18.59l7.72-7.72 1.47 1.35L5.41 20z\"/>\n",
              "  </svg>\n",
              "      </button>\n",
              "      \n",
              "  <style>\n",
              "    .colab-df-container {\n",
              "      display:flex;\n",
              "      flex-wrap:wrap;\n",
              "      gap: 12px;\n",
              "    }\n",
              "\n",
              "    .colab-df-convert {\n",
              "      background-color: #E8F0FE;\n",
              "      border: none;\n",
              "      border-radius: 50%;\n",
              "      cursor: pointer;\n",
              "      display: none;\n",
              "      fill: #1967D2;\n",
              "      height: 32px;\n",
              "      padding: 0 0 0 0;\n",
              "      width: 32px;\n",
              "    }\n",
              "\n",
              "    .colab-df-convert:hover {\n",
              "      background-color: #E2EBFA;\n",
              "      box-shadow: 0px 1px 2px rgba(60, 64, 67, 0.3), 0px 1px 3px 1px rgba(60, 64, 67, 0.15);\n",
              "      fill: #174EA6;\n",
              "    }\n",
              "\n",
              "    [theme=dark] .colab-df-convert {\n",
              "      background-color: #3B4455;\n",
              "      fill: #D2E3FC;\n",
              "    }\n",
              "\n",
              "    [theme=dark] .colab-df-convert:hover {\n",
              "      background-color: #434B5C;\n",
              "      box-shadow: 0px 1px 3px 1px rgba(0, 0, 0, 0.15);\n",
              "      filter: drop-shadow(0px 1px 2px rgba(0, 0, 0, 0.3));\n",
              "      fill: #FFFFFF;\n",
              "    }\n",
              "  </style>\n",
              "\n",
              "      <script>\n",
              "        const buttonEl =\n",
              "          document.querySelector('#df-08c91769-e8ce-4f85-948a-b260903feb9d button.colab-df-convert');\n",
              "        buttonEl.style.display =\n",
              "          google.colab.kernel.accessAllowed ? 'block' : 'none';\n",
              "\n",
              "        async function convertToInteractive(key) {\n",
              "          const element = document.querySelector('#df-08c91769-e8ce-4f85-948a-b260903feb9d');\n",
              "          const dataTable =\n",
              "            await google.colab.kernel.invokeFunction('convertToInteractive',\n",
              "                                                     [key], {});\n",
              "          if (!dataTable) return;\n",
              "\n",
              "          const docLinkHtml = 'Like what you see? Visit the ' +\n",
              "            '<a target=\"_blank\" href=https://colab.research.google.com/notebooks/data_table.ipynb>data table notebook</a>'\n",
              "            + ' to learn more about interactive tables.';\n",
              "          element.innerHTML = '';\n",
              "          dataTable['output_type'] = 'display_data';\n",
              "          await google.colab.output.renderOutput(dataTable, element);\n",
              "          const docLink = document.createElement('div');\n",
              "          docLink.innerHTML = docLinkHtml;\n",
              "          element.appendChild(docLink);\n",
              "        }\n",
              "      </script>\n",
              "    </div>\n",
              "  </div>\n",
              "  "
            ],
            "text/plain": [
              "         DATE   TIME    BOROUGH ZIP CODE   LATITUDE  LONGITUDE  \\\n",
              "0  07/30/2019   0:00      BRONX    10464  40.841100 -73.784960   \n",
              "1  07/30/2019   0:10     QUEENS    11423  40.710827 -73.770660   \n",
              "2  07/30/2019   0:25        NaN      NaN  40.880318 -73.841286   \n",
              "3  07/30/2019   0:35  MANHATTAN    10036  40.756744 -73.984590   \n",
              "4  07/30/2019  10:00   BROOKLYN    11223  40.600090 -73.965910   \n",
              "\n",
              "                  LOCATION       ON STREET     CROSS STRE  \\\n",
              "0     (40.8411, -73.78496)             NaN            NaN   \n",
              "1   (40.710827, -73.77066)  JAMAICA AVENUE     188 STREET   \n",
              "2  (40.880318, -73.841286)     BOSTON ROAD            NaN   \n",
              "3   (40.756744, -73.98459)             NaN            NaN   \n",
              "4    (40.60009, -73.96591)        AVENUE T  OCEAN PARKWAY   \n",
              "\n",
              "                 OFF STREET  ...   CONTRIBU_2  CONTRIBU_3  CONTRIBU_4  \\\n",
              "0    121       PILOT STREET  ...  Unspecified         NaN         NaN   \n",
              "1                       NaN  ...          NaN         NaN         NaN   \n",
              "2                       NaN  ...          NaN         NaN         NaN   \n",
              "3  155       WEST 44 STREET  ...          NaN         NaN         NaN   \n",
              "4                       NaN  ...          NaN         NaN         NaN   \n",
              "\n",
              "   UNIQUE KEY                           VEHICLE TY  \\\n",
              "0     4180045                                Sedan   \n",
              "1     4180007                                Sedan   \n",
              "2     4179575                                Sedan   \n",
              "3     4179544                            Box Truck   \n",
              "4     4180660  Station Wagon/Sport Utility Vehicle   \n",
              "\n",
              "                            VEHICLE _1                           VEHICLE _2  \\\n",
              "0  Station Wagon/Sport Utility Vehicle  Station Wagon/Sport Utility Vehicle   \n",
              "1                                Sedan                                  NaN   \n",
              "2  Station Wagon/Sport Utility Vehicle                                  NaN   \n",
              "3  Station Wagon/Sport Utility Vehicle                                  NaN   \n",
              "4                                 Bike                                  NaN   \n",
              "\n",
              "   VEHICLE _3 VEHICLE _4                        geometry  \n",
              "0         NaN        NaN  POINT (1043750.211 245785.815)  \n",
              "1         NaN        NaN  POINT (1047831.185 198333.171)  \n",
              "2         NaN        NaN  POINT (1028139.293 260041.178)  \n",
              "3         NaN        NaN   POINT (988519.261 214979.320)  \n",
              "4         NaN        NaN   POINT (993716.669 157907.212)  \n",
              "\n",
              "[5 rows x 30 columns]"
            ]
          },
          "execution_count": 6,
          "metadata": {},
          "output_type": "execute_result"
        }
      ],
      "source": [
        "collisions = gpd.read_file(\"/content/drive/MyDrive/2023 데이터마이닝/dataset/NYPD_Motor_Vehicle_Collisions/NYPD_Motor_Vehicle_Collisions.shp\")\n",
        "collisions.head()"
      ]
    },
    {
      "cell_type": "markdown",
      "metadata": {
        "id": "asVYeWhz3Cy2"
      },
      "source": [
        "\"LATITUDE\" 및 \"LONGITUDE\" 열을 사용하여 충돌 데이터를 시각화하는 대화형 맵을 생성하세요. 어떤 유형의 맵이 가장 효과적인지 어떻게 생각하시나요?"
      ]
    },
    {
      "cell_type": "code",
      "execution_count": 7,
      "metadata": {
        "colab": {
          "base_uri": "https://localhost:8080/"
        },
        "id": "_ezF2Mtj3Cy3",
        "outputId": "f8478a1e-dd3b-4c60-fe6b-5eef0d51ddde"
      },
      "outputs": [
        {
          "data": {
            "text/plain": [
              "<folium.plugins.heat_map.HeatMap at 0x7fedf36b9480>"
            ]
          },
          "execution_count": 7,
          "metadata": {},
          "output_type": "execute_result"
        }
      ],
      "source": [
        "m_1 = folium.Map(location=[40.7, -74], zoom_start=11) \n",
        "\n",
        "# Your code here: Visualize the collision data\n",
        "HeatMap(data=collisions[['LATITUDE', 'LONGITUDE']], radius=9).add_to(m_1)"
      ]
    },
    {
      "cell_type": "markdown",
      "metadata": {
        "id": "PXlZ7ASh3Cy3"
      },
      "source": [
        "### 2) 병원 보호범위를 파악하기\n",
        "\n",
        "다음 코드 셀을 실행하여 병원 데이터를 불러옵니다."
      ]
    },
    {
      "cell_type": "code",
      "execution_count": 9,
      "metadata": {
        "colab": {
          "base_uri": "https://localhost:8080/",
          "height": 418
        },
        "id": "qoZd5GBg3Cy4",
        "outputId": "b9d9d4bd-e767-46e0-959a-3d4d895d8c33"
      },
      "outputs": [
        {
          "data": {
            "text/html": [
              "\n",
              "  <div id=\"df-6005346f-a5c6-4662-9e41-eb242851d585\">\n",
              "    <div class=\"colab-df-container\">\n",
              "      <div>\n",
              "<style scoped>\n",
              "    .dataframe tbody tr th:only-of-type {\n",
              "        vertical-align: middle;\n",
              "    }\n",
              "\n",
              "    .dataframe tbody tr th {\n",
              "        vertical-align: top;\n",
              "    }\n",
              "\n",
              "    .dataframe thead th {\n",
              "        text-align: right;\n",
              "    }\n",
              "</style>\n",
              "<table border=\"1\" class=\"dataframe\">\n",
              "  <thead>\n",
              "    <tr style=\"text-align: right;\">\n",
              "      <th></th>\n",
              "      <th>id</th>\n",
              "      <th>name</th>\n",
              "      <th>address</th>\n",
              "      <th>zip</th>\n",
              "      <th>factype</th>\n",
              "      <th>facname</th>\n",
              "      <th>capacity</th>\n",
              "      <th>capname</th>\n",
              "      <th>bcode</th>\n",
              "      <th>xcoord</th>\n",
              "      <th>ycoord</th>\n",
              "      <th>latitude</th>\n",
              "      <th>longitude</th>\n",
              "      <th>geometry</th>\n",
              "    </tr>\n",
              "  </thead>\n",
              "  <tbody>\n",
              "    <tr>\n",
              "      <th>0</th>\n",
              "      <td>317000001H1178</td>\n",
              "      <td>BRONX-LEBANON HOSPITAL CENTER - CONCOURSE DIVI...</td>\n",
              "      <td>1650 Grand Concourse</td>\n",
              "      <td>10457</td>\n",
              "      <td>3102</td>\n",
              "      <td>Hospital</td>\n",
              "      <td>415</td>\n",
              "      <td>Beds</td>\n",
              "      <td>36005</td>\n",
              "      <td>1008872.0</td>\n",
              "      <td>246596.0</td>\n",
              "      <td>40.843490</td>\n",
              "      <td>-73.911010</td>\n",
              "      <td>POINT (1008872.000 246596.000)</td>\n",
              "    </tr>\n",
              "    <tr>\n",
              "      <th>1</th>\n",
              "      <td>317000001H1164</td>\n",
              "      <td>BRONX-LEBANON HOSPITAL CENTER - FULTON DIVISION</td>\n",
              "      <td>1276 Fulton Ave</td>\n",
              "      <td>10456</td>\n",
              "      <td>3102</td>\n",
              "      <td>Hospital</td>\n",
              "      <td>164</td>\n",
              "      <td>Beds</td>\n",
              "      <td>36005</td>\n",
              "      <td>1011044.0</td>\n",
              "      <td>242204.0</td>\n",
              "      <td>40.831429</td>\n",
              "      <td>-73.903178</td>\n",
              "      <td>POINT (1011044.000 242204.000)</td>\n",
              "    </tr>\n",
              "    <tr>\n",
              "      <th>2</th>\n",
              "      <td>317000011H1175</td>\n",
              "      <td>CALVARY HOSPITAL INC</td>\n",
              "      <td>1740-70 Eastchester Rd</td>\n",
              "      <td>10461</td>\n",
              "      <td>3102</td>\n",
              "      <td>Hospital</td>\n",
              "      <td>225</td>\n",
              "      <td>Beds</td>\n",
              "      <td>36005</td>\n",
              "      <td>1027505.0</td>\n",
              "      <td>248287.0</td>\n",
              "      <td>40.848060</td>\n",
              "      <td>-73.843656</td>\n",
              "      <td>POINT (1027505.000 248287.000)</td>\n",
              "    </tr>\n",
              "    <tr>\n",
              "      <th>3</th>\n",
              "      <td>317000002H1165</td>\n",
              "      <td>JACOBI MEDICAL CENTER</td>\n",
              "      <td>1400 Pelham Pkwy</td>\n",
              "      <td>10461</td>\n",
              "      <td>3102</td>\n",
              "      <td>Hospital</td>\n",
              "      <td>457</td>\n",
              "      <td>Beds</td>\n",
              "      <td>36005</td>\n",
              "      <td>1027042.0</td>\n",
              "      <td>251065.0</td>\n",
              "      <td>40.855687</td>\n",
              "      <td>-73.845311</td>\n",
              "      <td>POINT (1027042.000 251065.000)</td>\n",
              "    </tr>\n",
              "    <tr>\n",
              "      <th>4</th>\n",
              "      <td>317000008H1172</td>\n",
              "      <td>LINCOLN MEDICAL &amp; MENTAL HEALTH CENTER</td>\n",
              "      <td>234 E 149 St</td>\n",
              "      <td>10451</td>\n",
              "      <td>3102</td>\n",
              "      <td>Hospital</td>\n",
              "      <td>362</td>\n",
              "      <td>Beds</td>\n",
              "      <td>36005</td>\n",
              "      <td>1005154.0</td>\n",
              "      <td>236853.0</td>\n",
              "      <td>40.816758</td>\n",
              "      <td>-73.924478</td>\n",
              "      <td>POINT (1005154.000 236853.000)</td>\n",
              "    </tr>\n",
              "  </tbody>\n",
              "</table>\n",
              "</div>\n",
              "      <button class=\"colab-df-convert\" onclick=\"convertToInteractive('df-6005346f-a5c6-4662-9e41-eb242851d585')\"\n",
              "              title=\"Convert this dataframe to an interactive table.\"\n",
              "              style=\"display:none;\">\n",
              "        \n",
              "  <svg xmlns=\"http://www.w3.org/2000/svg\" height=\"24px\"viewBox=\"0 0 24 24\"\n",
              "       width=\"24px\">\n",
              "    <path d=\"M0 0h24v24H0V0z\" fill=\"none\"/>\n",
              "    <path d=\"M18.56 5.44l.94 2.06.94-2.06 2.06-.94-2.06-.94-.94-2.06-.94 2.06-2.06.94zm-11 1L8.5 8.5l.94-2.06 2.06-.94-2.06-.94L8.5 2.5l-.94 2.06-2.06.94zm10 10l.94 2.06.94-2.06 2.06-.94-2.06-.94-.94-2.06-.94 2.06-2.06.94z\"/><path d=\"M17.41 7.96l-1.37-1.37c-.4-.4-.92-.59-1.43-.59-.52 0-1.04.2-1.43.59L10.3 9.45l-7.72 7.72c-.78.78-.78 2.05 0 2.83L4 21.41c.39.39.9.59 1.41.59.51 0 1.02-.2 1.41-.59l7.78-7.78 2.81-2.81c.8-.78.8-2.07 0-2.86zM5.41 20L4 18.59l7.72-7.72 1.47 1.35L5.41 20z\"/>\n",
              "  </svg>\n",
              "      </button>\n",
              "      \n",
              "  <style>\n",
              "    .colab-df-container {\n",
              "      display:flex;\n",
              "      flex-wrap:wrap;\n",
              "      gap: 12px;\n",
              "    }\n",
              "\n",
              "    .colab-df-convert {\n",
              "      background-color: #E8F0FE;\n",
              "      border: none;\n",
              "      border-radius: 50%;\n",
              "      cursor: pointer;\n",
              "      display: none;\n",
              "      fill: #1967D2;\n",
              "      height: 32px;\n",
              "      padding: 0 0 0 0;\n",
              "      width: 32px;\n",
              "    }\n",
              "\n",
              "    .colab-df-convert:hover {\n",
              "      background-color: #E2EBFA;\n",
              "      box-shadow: 0px 1px 2px rgba(60, 64, 67, 0.3), 0px 1px 3px 1px rgba(60, 64, 67, 0.15);\n",
              "      fill: #174EA6;\n",
              "    }\n",
              "\n",
              "    [theme=dark] .colab-df-convert {\n",
              "      background-color: #3B4455;\n",
              "      fill: #D2E3FC;\n",
              "    }\n",
              "\n",
              "    [theme=dark] .colab-df-convert:hover {\n",
              "      background-color: #434B5C;\n",
              "      box-shadow: 0px 1px 3px 1px rgba(0, 0, 0, 0.15);\n",
              "      filter: drop-shadow(0px 1px 2px rgba(0, 0, 0, 0.3));\n",
              "      fill: #FFFFFF;\n",
              "    }\n",
              "  </style>\n",
              "\n",
              "      <script>\n",
              "        const buttonEl =\n",
              "          document.querySelector('#df-6005346f-a5c6-4662-9e41-eb242851d585 button.colab-df-convert');\n",
              "        buttonEl.style.display =\n",
              "          google.colab.kernel.accessAllowed ? 'block' : 'none';\n",
              "\n",
              "        async function convertToInteractive(key) {\n",
              "          const element = document.querySelector('#df-6005346f-a5c6-4662-9e41-eb242851d585');\n",
              "          const dataTable =\n",
              "            await google.colab.kernel.invokeFunction('convertToInteractive',\n",
              "                                                     [key], {});\n",
              "          if (!dataTable) return;\n",
              "\n",
              "          const docLinkHtml = 'Like what you see? Visit the ' +\n",
              "            '<a target=\"_blank\" href=https://colab.research.google.com/notebooks/data_table.ipynb>data table notebook</a>'\n",
              "            + ' to learn more about interactive tables.';\n",
              "          element.innerHTML = '';\n",
              "          dataTable['output_type'] = 'display_data';\n",
              "          await google.colab.output.renderOutput(dataTable, element);\n",
              "          const docLink = document.createElement('div');\n",
              "          docLink.innerHTML = docLinkHtml;\n",
              "          element.appendChild(docLink);\n",
              "        }\n",
              "      </script>\n",
              "    </div>\n",
              "  </div>\n",
              "  "
            ],
            "text/plain": [
              "               id                                               name  \\\n",
              "0  317000001H1178  BRONX-LEBANON HOSPITAL CENTER - CONCOURSE DIVI...   \n",
              "1  317000001H1164    BRONX-LEBANON HOSPITAL CENTER - FULTON DIVISION   \n",
              "2  317000011H1175                               CALVARY HOSPITAL INC   \n",
              "3  317000002H1165                              JACOBI MEDICAL CENTER   \n",
              "4  317000008H1172             LINCOLN MEDICAL & MENTAL HEALTH CENTER   \n",
              "\n",
              "                  address    zip factype   facname capacity capname  bcode  \\\n",
              "0    1650 Grand Concourse  10457    3102  Hospital      415    Beds  36005   \n",
              "1         1276 Fulton Ave  10456    3102  Hospital      164    Beds  36005   \n",
              "2  1740-70 Eastchester Rd  10461    3102  Hospital      225    Beds  36005   \n",
              "3        1400 Pelham Pkwy  10461    3102  Hospital      457    Beds  36005   \n",
              "4            234 E 149 St  10451    3102  Hospital      362    Beds  36005   \n",
              "\n",
              "      xcoord    ycoord   latitude  longitude                        geometry  \n",
              "0  1008872.0  246596.0  40.843490 -73.911010  POINT (1008872.000 246596.000)  \n",
              "1  1011044.0  242204.0  40.831429 -73.903178  POINT (1011044.000 242204.000)  \n",
              "2  1027505.0  248287.0  40.848060 -73.843656  POINT (1027505.000 248287.000)  \n",
              "3  1027042.0  251065.0  40.855687 -73.845311  POINT (1027042.000 251065.000)  \n",
              "4  1005154.0  236853.0  40.816758 -73.924478  POINT (1005154.000 236853.000)  "
            ]
          },
          "execution_count": 9,
          "metadata": {},
          "output_type": "execute_result"
        }
      ],
      "source": [
        "hospitals = gpd.read_file(\"/content/drive/MyDrive/2023 데이터마이닝/dataset/nyu_2451_34494/nyu_2451_34494.shp\")\n",
        "hospitals.head()"
      ]
    },
    {
      "cell_type": "markdown",
      "metadata": {
        "id": "Kj5EQCkJ3Cy4"
      },
      "source": [
        "\"latitude\"와 \"longitude\" 열을 사용하여 병원 위치를 시각화하세요."
      ]
    },
    {
      "cell_type": "code",
      "execution_count": 10,
      "metadata": {
        "id": "Rn9kbS7h3Cy5"
      },
      "outputs": [],
      "source": [
        "m_2 = folium.Map(location=[40.7, -74], zoom_start=11) \n",
        "\n",
        "# Your code here: Visualize the hospital locations\n",
        "for idx, row in hospitals.iterrows():\n",
        "    Marker([row['latitude'], row['longitude']], popup=row['name']).add_to(m_2)"
      ]
    },
    {
      "cell_type": "markdown",
      "metadata": {
        "id": "uwdGkPFT3Cy5"
      },
      "source": [
        "### 3) 가장 가까운 병원으로부터 10킬로미터 이상 떨어진 사고는 언제였나요?\n",
        "\n",
        "가장 가까운 병원으로부터 10킬로미터 이상 떨어진 위치에서 발생한 충돌 사고의 모든 행을 포함하는 DataFrame인 `outside_range`을 생성하세요. 이때, `hospitals`와 `collisions` 모두 좌표 참조 시스템으로 EPSG 2263을 사용하며, EPSG 2263은 미터 단위를 가지고 있습니다."
      ]
    },
    {
      "cell_type": "code",
      "execution_count": 11,
      "metadata": {
        "id": "szamfaYT3Cy6"
      },
      "outputs": [],
      "source": [
        "# Your code here\n",
        "coverage = gpd.GeoDataFrame(geometry=hospitals.geometry).buffer(10000)\n",
        "my_union = coverage.geometry.unary_union\n",
        "\n",
        "outside_range = collisions.loc[~collisions[\"geometry\"].apply(lambda x: my_union.contains(x))]"
      ]
    },
    {
      "cell_type": "markdown",
      "metadata": {
        "id": "RkyVjLPN3Cy6"
      },
      "source": [
        "다음 코드 셀은 가장 가까운 병원으로부터 10킬로미터 이상 떨어진 충돌의 범위를 계산합니다"
      ]
    },
    {
      "cell_type": "code",
      "execution_count": 12,
      "metadata": {
        "colab": {
          "base_uri": "https://localhost:8080/"
        },
        "id": "5ALTMvSX3Cy7",
        "outputId": "5c1ea585-8f83-474e-da31-e08e90e21a32"
      },
      "outputs": [
        {
          "name": "stdout",
          "output_type": "stream",
          "text": [
            "Percentage of collisions more than 10 km away from the closest hospital: 15.12%\n"
          ]
        }
      ],
      "source": [
        "percentage = round(100*len(outside_range)/len(collisions), 2)\n",
        "print(\"Percentage of collisions more than 10 km away from the closest hospital: {}%\".format(percentage))"
      ]
    },
    {
      "cell_type": "markdown",
      "metadata": {
        "id": "G8boA6Pk3Cy7"
      },
      "source": [
        "### 4) 추천 시스템 만들기\n",
        "\n",
        "먼 위치에서 충돌이 발생할 때는 부상자를 가장 가까운 이용 가능한 병원으로 이송하는 것이 더욱 중요합니다.\n",
        "\n",
        "이를 고려하여 다음과 같은 추천 시스템을 만들기로 결정했습니다:\n",
        "- 충돌 위치 (EPSG 2263에서)를 입력으로 받습니다.\n",
        "- 가장 가까운 병원을 찾습니다 (거리 계산은 EPSG 2263에서 수행).\n",
        "- 가장 가까운 병원의 이름을 반환합니다."
      ]
    },
    {
      "cell_type": "code",
      "execution_count": 13,
      "metadata": {
        "colab": {
          "base_uri": "https://localhost:8080/"
        },
        "id": "3Ev8C17L3Cy7",
        "outputId": "0cb7199d-2385-4b29-e669-86cc697a5399"
      },
      "outputs": [
        {
          "name": "stdout",
          "output_type": "stream",
          "text": [
            "CALVARY HOSPITAL INC\n"
          ]
        }
      ],
      "source": [
        "def best_hospital(collision_location):\n",
        "    idx_min = hospitals.geometry.distance(collision_location).idxmin()\n",
        "    my_hospital = hospitals.iloc[idx_min]\n",
        "    name = my_hospital[\"name\"]\n",
        "    return name\n",
        "\n",
        "# Test your function: this should suggest CALVARY HOSPITAL INC\n",
        "print(best_hospital(outside_range.geometry.iloc[0]))"
      ]
    },
    {
      "cell_type": "markdown",
      "metadata": {
        "id": "cRJ8RUmK3Cy8"
      },
      "source": [
        "### 5) 가장 많은 수요를 받는 병원은 어디인가요?\n",
        "\n",
        "`outside_range` DataFrame에서만 고려할 때, 가장 추천되는 병원은 어디인가요? \n",
        "답변은 4)에서 생성한 함수에 의해 반환된 병원 이름과 정확히 일치하는 Python 문자열이어야 합니다."
      ]
    },
    {
      "cell_type": "code",
      "execution_count": 14,
      "metadata": {
        "id": "rA5SLRVg3Cy8"
      },
      "outputs": [],
      "source": [
        "# Your code here\n",
        "highest_demand = outside_range.geometry.apply(best_hospital).value_counts().idxmax()"
      ]
    },
    {
      "cell_type": "markdown",
      "metadata": {
        "id": "iATc2ccK3Cy8"
      },
      "source": [
        "### 6) 도시는 어디에 새로운 병원을 건설해야 할까요?\n",
        "\n",
        "다음 코드 셀을 실행하여 병원 위치를 시각화합니다. 이에 추가로, 가장 가까운 병원으로부터 10킬로미터 이상 떨어진 위치에서 발생한 사고도 함께 표시됩니다."
      ]
    },
    {
      "cell_type": "code",
      "execution_count": 15,
      "metadata": {
        "colab": {
          "base_uri": "https://localhost:8080/",
          "height": 521
        },
        "id": "LWLuxrLZ3Cy9",
        "outputId": "8404f372-0198-49bf-9eab-bbfd86ef565f",
        "scrolled": true
      },
      "outputs": [
        {
          "data": {
            "text/html": [
              "\n",
              "        <iframe\n",
              "            width=\"100%\"\n",
              "            height=\"500px\"\n",
              "            src=\"m_6.html\"\n",
              "            frameborder=\"0\"\n",
              "            allowfullscreen\n",
              "            \n",
              "        ></iframe>\n",
              "        "
            ],
            "text/plain": [
              "<IPython.lib.display.IFrame at 0x7fededdb74f0>"
            ]
          },
          "execution_count": 15,
          "metadata": {},
          "output_type": "execute_result"
        }
      ],
      "source": [
        "m_6 = folium.Map(location=[40.7, -74], zoom_start=11) \n",
        "\n",
        "coverage = gpd.GeoDataFrame(geometry=hospitals.geometry).buffer(10000)\n",
        "folium.GeoJson(coverage.geometry.to_crs(epsg=4326)).add_to(m_6)\n",
        "HeatMap(data=outside_range[['LATITUDE', 'LONGITUDE']], radius=9).add_to(m_6)\n",
        "folium.LatLngPopup().add_to(m_6)\n",
        "\n",
        "embed_map(m_6, 'm_6.html')"
      ]
    },
    {
      "cell_type": "markdown",
      "metadata": {
        "id": "ZsUsLUtp3Cy9"
      },
      "source": [
        "지도에서 아무 곳이나 클릭하여 해당 위치의 위도와 경도가 표시되는 팝업을 볼 수 있습니다.\n",
        "뉴욕 시는 3) 단계에서 계산된 백분율을 10% 미만으로 낮추기 위해 두 개의 새로운 병원 위치를 식별하는 데 도움을 요청했습니다. 지도를 사용하여 (지역 법률이나 병원을 건설하기 위해 제거해야 할 잠재적인 건물에 대해 걱정하지 않고) 이 목표를 달성하는 데 도움이 될 수 있는 두 개의 위치를 찾을 수 있을까요?\n",
        "병원 1의 제안된 위도와 경도를 각각 lat_1과 long_1에 입력해주세요. (병원 2도 마찬가지로 입력해주세요.)\n",
        "그런 다음 나머지 셀을 그대로 실행하여 새로운 병원의 효과를 확인하세요. 답변이 정답으로 표시될 것입니다. 새로운 두 병원이 백분율을 10% 미만으로 낮추게 됩니다."
      ]
    },
    {
      "cell_type": "code",
      "execution_count": 18,
      "metadata": {
        "colab": {
          "base_uri": "https://localhost:8080/"
        },
        "id": "iX7M5NIg3Cy9",
        "outputId": "95d3f31c-b1f5-4a65-88b2-891fde449465"
      },
      "outputs": [
        {
          "name": "stderr",
          "output_type": "stream",
          "text": [
            "/usr/local/lib/python3.10/dist-packages/pyproj/crs/crs.py:141: FutureWarning: '+init=<authority>:<code>' syntax is deprecated. '<authority>:<code>' is the preferred initialization method. When making the change, be mindful of axis order changes: https://pyproj4.github.io/pyproj/stable/gotchas.html#axis-order-changes-in-proj-6\n",
            "  in_crs_string = _prepare_from_proj_string(in_crs_string)\n"
          ]
        },
        {
          "name": "stdout",
          "output_type": "stream",
          "text": [
            "(NEW) Percentage of collisions more than 10 km away from the closest hospital: 9.12%\n",
            "error.\n"
          ]
        }
      ],
      "source": [
        "# Your answer here: proposed location of hospital 1\n",
        "lat_1 = 40.6714\n",
        "long_1 = -73.8492\n",
        "\n",
        "# Your answer here: proposed location of hospital 2\n",
        "lat_2 = 40.6702\n",
        "long_2 = -73.7612\n",
        "\n",
        "# Do not modify the code below this line\n",
        "try:\n",
        "    new_df = pd.DataFrame(\n",
        "        {'Latitude': [lat_1, lat_2],\n",
        "         'Longitude': [long_1, long_2]})\n",
        "    new_gdf = gpd.GeoDataFrame(new_df, geometry=gpd.points_from_xy(new_df.Longitude, new_df.Latitude))\n",
        "    new_gdf.crs = {'init' :'epsg:4326'}\n",
        "    new_gdf = new_gdf.to_crs(epsg=2263)\n",
        "    # get new percentage\n",
        "    new_coverage = gpd.GeoDataFrame(geometry=new_gdf.geometry).buffer(10000)\n",
        "    new_my_union = new_coverage.geometry.unary_union\n",
        "    new_outside_range = outside_range.loc[~outside_range[\"geometry\"].apply(lambda x: new_my_union.contains(x))]\n",
        "    new_percentage = round(100*len(new_outside_range)/len(collisions), 2)\n",
        "    print(\"(NEW) Percentage of collisions more than 10 km away from the closest hospital: {}%\".format(new_percentage))\n",
        "    # Did you help the city to meet its goal?\n",
        "    q_6.check()\n",
        "    # make the map\n",
        "    m = folium.Map(location=[40.7, -74], zoom_start=11) \n",
        "    folium.GeoJson(coverage.geometry.to_crs(epsg=4326)).add_to(m)\n",
        "    folium.GeoJson(new_coverage.geometry.to_crs(epsg=4326)).add_to(m)\n",
        "    for idx, row in new_gdf.iterrows():\n",
        "        Marker([row['Latitude'], row['Longitude']]).add_to(m)\n",
        "    HeatMap(data=new_outside_range[['LATITUDE', 'LONGITUDE']], radius=9).add_to(m)\n",
        "    folium.LatLngPopup().add_to(m)\n",
        "    display(embed_map(m, 'q_6.html'))\n",
        "except:\n",
        "    print(\"error.\")\n",
        "    #q_6.hint()"
      ]
    },
    {
      "cell_type": "code",
      "execution_count": null,
      "metadata": {
        "id": "fX_Su9BQhZju"
      },
      "outputs": [],
      "source": []
    }
  ],
  "metadata": {
    "colab": {
      "provenance": []
    },
    "kernelspec": {
      "display_name": "Python 3.9.1 64-bit",
      "language": "python",
      "name": "python3"
    },
    "language_info": {
      "codemirror_mode": {
        "name": "ipython",
        "version": 3
      },
      "file_extension": ".py",
      "mimetype": "text/x-python",
      "name": "python",
      "nbconvert_exporter": "python",
      "pygments_lexer": "ipython3",
      "version": "3.9.1"
    },
    "vscode": {
      "interpreter": {
        "hash": "397704579725e15f5c7cb49fe5f0341eb7531c82d19f2c29d197e8b64ab5776b"
      }
    }
  },
  "nbformat": 4,
  "nbformat_minor": 0
}
