{
  "cells": [
    {
      "cell_type": "markdown",
      "metadata": {},
      "source": [
        "---\n",
        "title: \"Kaggle_exercise_03\"\n",
        "author: \"minstar\"\n",
        "date: \"2023-05-17\"\n",
        "categories: [python]\n",
        "---\n",
        "kaggle 문제풀이 03\n",
        "https://www.kaggle.com/code/lsiina/exercise-interactive-maps/edit"
      ]
    },
    {
      "cell_type": "markdown",
      "metadata": {
        "id": "yLHi28MSwT54"
      },
      "source": [
        "# 소개\n",
        "\n",
        "당신은 일본의 도시 안전 기획자이며, 일본의 어떤 지역이 지진 강화를 위해 추가적인 조치가 필요한지 분석하고 있습니다. 인구 밀도가 높으면서 지진이 발생하기 쉬운 지역은 어디인가요?\n",
        "\n",
        "<center>\n",
        "<img src=\"https://storage.googleapis.com/kaggle-media/learn/images/Kuh9gPj.png\" width=\"450\"><br/>\n",
        "</center>\n",
        "시작하기 전에 아래의 코드 셀을 실행하여 모든 설정을 완료하세요."
      ]
    },
    {
      "cell_type": "code",
      "execution_count": null,
      "metadata": {
        "id": "ui_miY4HkngX"
      },
      "outputs": [],
      "source": [
        "!pip install geopandas"
      ]
    },
    {
      "cell_type": "code",
      "execution_count": null,
      "metadata": {
        "id": "42K0A1rGwT55"
      },
      "outputs": [],
      "source": [
        "import pandas as pd\n",
        "import geopandas as gpd\n",
        "\n",
        "import folium\n",
        "from folium import Choropleth\n",
        "from folium.plugins import HeatMap"
      ]
    },
    {
      "cell_type": "markdown",
      "metadata": {
        "id": "cD8NM0gRwT56"
      },
      "source": [
        "인터랙티브 지도를 표시하는 `embed_map()` 함수를 정의합니다. 이 함수는 두 개의 인수를 받습니다: 지도를 담고 있는 변수와 지도가 저장될 HTML 파일의 이름입니다.\n",
        "\n",
        "이 함수는 지도가 [모든 웹 브라우저에서](https://github.com/python-visualization/folium/issues/812) 표시될 수 있도록 합니다."
      ]
    },
    {
      "cell_type": "code",
      "execution_count": null,
      "metadata": {
        "id": "jw9kp4MuwT57"
      },
      "outputs": [],
      "source": [
        "def embed_map(m, file_name):\n",
        "    from IPython.display import IFrame\n",
        "    m.save(file_name)\n",
        "    return IFrame(file_name, width='100%', height='1000px')"
      ]
    },
    {
      "cell_type": "markdown",
      "metadata": {
        "id": "ydiPLAy7wT58"
      },
      "source": [
        "# 연습문제\n",
        "\n",
        "### 1) 지진은 플레이트 경계와 일치하는가?\n",
        "\n",
        "아래의 코드 셀을 실행하여 전 세계 플레이트 경계를 보여주는 DataFrame `plate_boundaries`를 생성하세요. \"coordinates\" 열은 경계에 따라 (위도, 경도) 위치의 리스트입니다."
      ]
    },
    {
      "cell_type": "code",
      "execution_count": null,
      "metadata": {
        "colab": {
          "base_uri": "https://localhost:8080/"
        },
        "id": "BGKZm7yqldzE",
        "outputId": "9fc21274-bfbe-4277-fe8e-2c9d3a17fcea"
      },
      "outputs": [
        {
          "name": "stdout",
          "output_type": "stream",
          "text": [
            "Mounted at /content/drive\n"
          ]
        }
      ],
      "source": [
        "from google.colab import drive\n",
        "drive.mount('/content/drive')"
      ]
    },
    {
      "cell_type": "code",
      "execution_count": null,
      "metadata": {
        "colab": {
          "base_uri": "https://localhost:8080/",
          "height": 204
        },
        "id": "Znw5JowKwT58",
        "outputId": "7a493854-84fe-49e4-9efa-0da6b36b17f5"
      },
      "outputs": [
        {
          "data": {
            "text/html": [
              "\n",
              "  <div id=\"df-878a14c8-8553-44dc-9841-88649f2dd73b\">\n",
              "    <div class=\"colab-df-container\">\n",
              "      <div>\n",
              "<style scoped>\n",
              "    .dataframe tbody tr th:only-of-type {\n",
              "        vertical-align: middle;\n",
              "    }\n",
              "\n",
              "    .dataframe tbody tr th {\n",
              "        vertical-align: top;\n",
              "    }\n",
              "\n",
              "    .dataframe thead th {\n",
              "        text-align: right;\n",
              "    }\n",
              "</style>\n",
              "<table border=\"1\" class=\"dataframe\">\n",
              "  <thead>\n",
              "    <tr style=\"text-align: right;\">\n",
              "      <th></th>\n",
              "      <th>HAZ_PLATES</th>\n",
              "      <th>HAZ_PLAT_1</th>\n",
              "      <th>HAZ_PLAT_2</th>\n",
              "      <th>Shape_Leng</th>\n",
              "      <th>coordinates</th>\n",
              "    </tr>\n",
              "  </thead>\n",
              "  <tbody>\n",
              "    <tr>\n",
              "      <th>0</th>\n",
              "      <td>TRENCH</td>\n",
              "      <td>SERAM TROUGH (ACTIVE)</td>\n",
              "      <td>6722</td>\n",
              "      <td>5.843467</td>\n",
              "      <td>[(-5.444200361999947, 133.6808931800001), (-5....</td>\n",
              "    </tr>\n",
              "    <tr>\n",
              "      <th>1</th>\n",
              "      <td>TRENCH</td>\n",
              "      <td>WETAR THRUST</td>\n",
              "      <td>6722</td>\n",
              "      <td>1.829013</td>\n",
              "      <td>[(-7.760600482999962, 125.47879802900002), (-7...</td>\n",
              "    </tr>\n",
              "    <tr>\n",
              "      <th>2</th>\n",
              "      <td>TRENCH</td>\n",
              "      <td>TRENCH WEST OF LUZON (MANILA TRENCH) NORTHERN ...</td>\n",
              "      <td>6621</td>\n",
              "      <td>6.743604</td>\n",
              "      <td>[(19.817899819000047, 120.09999798800004), (19...</td>\n",
              "    </tr>\n",
              "    <tr>\n",
              "      <th>3</th>\n",
              "      <td>TRENCH</td>\n",
              "      <td>BONIN TRENCH</td>\n",
              "      <td>9821</td>\n",
              "      <td>8.329381</td>\n",
              "      <td>[(26.175899215000072, 143.20620700100005), (26...</td>\n",
              "    </tr>\n",
              "    <tr>\n",
              "      <th>4</th>\n",
              "      <td>TRENCH</td>\n",
              "      <td>NEW GUINEA TRENCH</td>\n",
              "      <td>8001</td>\n",
              "      <td>11.998145</td>\n",
              "      <td>[(0.41880004000006466, 132.8273013480001), (0....</td>\n",
              "    </tr>\n",
              "  </tbody>\n",
              "</table>\n",
              "</div>\n",
              "      <button class=\"colab-df-convert\" onclick=\"convertToInteractive('df-878a14c8-8553-44dc-9841-88649f2dd73b')\"\n",
              "              title=\"Convert this dataframe to an interactive table.\"\n",
              "              style=\"display:none;\">\n",
              "        \n",
              "  <svg xmlns=\"http://www.w3.org/2000/svg\" height=\"24px\"viewBox=\"0 0 24 24\"\n",
              "       width=\"24px\">\n",
              "    <path d=\"M0 0h24v24H0V0z\" fill=\"none\"/>\n",
              "    <path d=\"M18.56 5.44l.94 2.06.94-2.06 2.06-.94-2.06-.94-.94-2.06-.94 2.06-2.06.94zm-11 1L8.5 8.5l.94-2.06 2.06-.94-2.06-.94L8.5 2.5l-.94 2.06-2.06.94zm10 10l.94 2.06.94-2.06 2.06-.94-2.06-.94-.94-2.06-.94 2.06-2.06.94z\"/><path d=\"M17.41 7.96l-1.37-1.37c-.4-.4-.92-.59-1.43-.59-.52 0-1.04.2-1.43.59L10.3 9.45l-7.72 7.72c-.78.78-.78 2.05 0 2.83L4 21.41c.39.39.9.59 1.41.59.51 0 1.02-.2 1.41-.59l7.78-7.78 2.81-2.81c.8-.78.8-2.07 0-2.86zM5.41 20L4 18.59l7.72-7.72 1.47 1.35L5.41 20z\"/>\n",
              "  </svg>\n",
              "      </button>\n",
              "      \n",
              "  <style>\n",
              "    .colab-df-container {\n",
              "      display:flex;\n",
              "      flex-wrap:wrap;\n",
              "      gap: 12px;\n",
              "    }\n",
              "\n",
              "    .colab-df-convert {\n",
              "      background-color: #E8F0FE;\n",
              "      border: none;\n",
              "      border-radius: 50%;\n",
              "      cursor: pointer;\n",
              "      display: none;\n",
              "      fill: #1967D2;\n",
              "      height: 32px;\n",
              "      padding: 0 0 0 0;\n",
              "      width: 32px;\n",
              "    }\n",
              "\n",
              "    .colab-df-convert:hover {\n",
              "      background-color: #E2EBFA;\n",
              "      box-shadow: 0px 1px 2px rgba(60, 64, 67, 0.3), 0px 1px 3px 1px rgba(60, 64, 67, 0.15);\n",
              "      fill: #174EA6;\n",
              "    }\n",
              "\n",
              "    [theme=dark] .colab-df-convert {\n",
              "      background-color: #3B4455;\n",
              "      fill: #D2E3FC;\n",
              "    }\n",
              "\n",
              "    [theme=dark] .colab-df-convert:hover {\n",
              "      background-color: #434B5C;\n",
              "      box-shadow: 0px 1px 3px 1px rgba(0, 0, 0, 0.15);\n",
              "      filter: drop-shadow(0px 1px 2px rgba(0, 0, 0, 0.3));\n",
              "      fill: #FFFFFF;\n",
              "    }\n",
              "  </style>\n",
              "\n",
              "      <script>\n",
              "        const buttonEl =\n",
              "          document.querySelector('#df-878a14c8-8553-44dc-9841-88649f2dd73b button.colab-df-convert');\n",
              "        buttonEl.style.display =\n",
              "          google.colab.kernel.accessAllowed ? 'block' : 'none';\n",
              "\n",
              "        async function convertToInteractive(key) {\n",
              "          const element = document.querySelector('#df-878a14c8-8553-44dc-9841-88649f2dd73b');\n",
              "          const dataTable =\n",
              "            await google.colab.kernel.invokeFunction('convertToInteractive',\n",
              "                                                     [key], {});\n",
              "          if (!dataTable) return;\n",
              "\n",
              "          const docLinkHtml = 'Like what you see? Visit the ' +\n",
              "            '<a target=\"_blank\" href=https://colab.research.google.com/notebooks/data_table.ipynb>data table notebook</a>'\n",
              "            + ' to learn more about interactive tables.';\n",
              "          element.innerHTML = '';\n",
              "          dataTable['output_type'] = 'display_data';\n",
              "          await google.colab.output.renderOutput(dataTable, element);\n",
              "          const docLink = document.createElement('div');\n",
              "          docLink.innerHTML = docLinkHtml;\n",
              "          element.appendChild(docLink);\n",
              "        }\n",
              "      </script>\n",
              "    </div>\n",
              "  </div>\n",
              "  "
            ],
            "text/plain": [
              "  HAZ_PLATES                                         HAZ_PLAT_1  HAZ_PLAT_2  \\\n",
              "0     TRENCH                              SERAM TROUGH (ACTIVE)        6722   \n",
              "1     TRENCH                                       WETAR THRUST        6722   \n",
              "2     TRENCH  TRENCH WEST OF LUZON (MANILA TRENCH) NORTHERN ...        6621   \n",
              "3     TRENCH                                       BONIN TRENCH        9821   \n",
              "4     TRENCH                                  NEW GUINEA TRENCH        8001   \n",
              "\n",
              "   Shape_Leng                                        coordinates  \n",
              "0    5.843467  [(-5.444200361999947, 133.6808931800001), (-5....  \n",
              "1    1.829013  [(-7.760600482999962, 125.47879802900002), (-7...  \n",
              "2    6.743604  [(19.817899819000047, 120.09999798800004), (19...  \n",
              "3    8.329381  [(26.175899215000072, 143.20620700100005), (26...  \n",
              "4   11.998145  [(0.41880004000006466, 132.8273013480001), (0....  "
            ]
          },
          "execution_count": 8,
          "metadata": {},
          "output_type": "execute_result"
        }
      ],
      "source": [
        "plate_boundaries = gpd.read_file(\"/content/drive/MyDrive/2023 데이터마이닝/dataset/Plate_Boundaries/Plate_Boundaries.shp\")\n",
        "plate_boundaries['coordinates'] = plate_boundaries.apply(lambda x: [(b,a) for (a,b) in list(x.geometry.coords)], axis='columns')\n",
        "plate_boundaries.drop('geometry', axis=1, inplace=True)\n",
        "\n",
        "plate_boundaries.head()"
      ]
    },
    {
      "cell_type": "markdown",
      "metadata": {
        "id": "Ps5jGUixwT59"
      },
      "source": [
        "다음으로, 아래의 코드 셀을 수정하지 말고 실행하여 역사적인 지진 데이터를 DataFrame `earthquakes`에 로드하세요."
      ]
    },
    {
      "cell_type": "code",
      "execution_count": null,
      "metadata": {
        "colab": {
          "base_uri": "https://localhost:8080/",
          "height": 204
        },
        "id": "_DX_ketvwT59",
        "outputId": "476ffa33-3012-4f61-c144-24ca0505bbdf"
      },
      "outputs": [
        {
          "data": {
            "text/html": [
              "\n",
              "  <div id=\"df-bb97b52d-ad22-408d-9130-45b443e2aa45\">\n",
              "    <div class=\"colab-df-container\">\n",
              "      <div>\n",
              "<style scoped>\n",
              "    .dataframe tbody tr th:only-of-type {\n",
              "        vertical-align: middle;\n",
              "    }\n",
              "\n",
              "    .dataframe tbody tr th {\n",
              "        vertical-align: top;\n",
              "    }\n",
              "\n",
              "    .dataframe thead th {\n",
              "        text-align: right;\n",
              "    }\n",
              "</style>\n",
              "<table border=\"1\" class=\"dataframe\">\n",
              "  <thead>\n",
              "    <tr style=\"text-align: right;\">\n",
              "      <th></th>\n",
              "      <th>DateTime</th>\n",
              "      <th>Latitude</th>\n",
              "      <th>Longitude</th>\n",
              "      <th>Depth</th>\n",
              "      <th>Magnitude</th>\n",
              "      <th>MagType</th>\n",
              "      <th>NbStations</th>\n",
              "      <th>Gap</th>\n",
              "      <th>Distance</th>\n",
              "      <th>RMS</th>\n",
              "      <th>Source</th>\n",
              "      <th>EventID</th>\n",
              "    </tr>\n",
              "  </thead>\n",
              "  <tbody>\n",
              "    <tr>\n",
              "      <th>0</th>\n",
              "      <td>1970-01-04 17:00:40.200</td>\n",
              "      <td>24.139</td>\n",
              "      <td>102.503</td>\n",
              "      <td>31.0</td>\n",
              "      <td>7.5</td>\n",
              "      <td>Ms</td>\n",
              "      <td>90.0</td>\n",
              "      <td>NaN</td>\n",
              "      <td>NaN</td>\n",
              "      <td>0.0</td>\n",
              "      <td>NEI</td>\n",
              "      <td>1.970010e+09</td>\n",
              "    </tr>\n",
              "    <tr>\n",
              "      <th>1</th>\n",
              "      <td>1970-01-06 05:35:51.800</td>\n",
              "      <td>-9.628</td>\n",
              "      <td>151.458</td>\n",
              "      <td>8.0</td>\n",
              "      <td>6.2</td>\n",
              "      <td>Ms</td>\n",
              "      <td>85.0</td>\n",
              "      <td>NaN</td>\n",
              "      <td>NaN</td>\n",
              "      <td>0.0</td>\n",
              "      <td>NEI</td>\n",
              "      <td>1.970011e+09</td>\n",
              "    </tr>\n",
              "    <tr>\n",
              "      <th>2</th>\n",
              "      <td>1970-01-08 17:12:39.100</td>\n",
              "      <td>-34.741</td>\n",
              "      <td>178.568</td>\n",
              "      <td>179.0</td>\n",
              "      <td>6.1</td>\n",
              "      <td>Mb</td>\n",
              "      <td>59.0</td>\n",
              "      <td>NaN</td>\n",
              "      <td>NaN</td>\n",
              "      <td>0.0</td>\n",
              "      <td>NEI</td>\n",
              "      <td>1.970011e+09</td>\n",
              "    </tr>\n",
              "    <tr>\n",
              "      <th>3</th>\n",
              "      <td>1970-01-10 12:07:08.600</td>\n",
              "      <td>6.825</td>\n",
              "      <td>126.737</td>\n",
              "      <td>73.0</td>\n",
              "      <td>6.1</td>\n",
              "      <td>Mb</td>\n",
              "      <td>91.0</td>\n",
              "      <td>NaN</td>\n",
              "      <td>NaN</td>\n",
              "      <td>0.0</td>\n",
              "      <td>NEI</td>\n",
              "      <td>1.970011e+09</td>\n",
              "    </tr>\n",
              "    <tr>\n",
              "      <th>4</th>\n",
              "      <td>1970-01-16 08:05:39.000</td>\n",
              "      <td>60.280</td>\n",
              "      <td>-152.660</td>\n",
              "      <td>85.0</td>\n",
              "      <td>6.0</td>\n",
              "      <td>ML</td>\n",
              "      <td>0.0</td>\n",
              "      <td>NaN</td>\n",
              "      <td>NaN</td>\n",
              "      <td>NaN</td>\n",
              "      <td>AK</td>\n",
              "      <td>NaN</td>\n",
              "    </tr>\n",
              "  </tbody>\n",
              "</table>\n",
              "</div>\n",
              "      <button class=\"colab-df-convert\" onclick=\"convertToInteractive('df-bb97b52d-ad22-408d-9130-45b443e2aa45')\"\n",
              "              title=\"Convert this dataframe to an interactive table.\"\n",
              "              style=\"display:none;\">\n",
              "        \n",
              "  <svg xmlns=\"http://www.w3.org/2000/svg\" height=\"24px\"viewBox=\"0 0 24 24\"\n",
              "       width=\"24px\">\n",
              "    <path d=\"M0 0h24v24H0V0z\" fill=\"none\"/>\n",
              "    <path d=\"M18.56 5.44l.94 2.06.94-2.06 2.06-.94-2.06-.94-.94-2.06-.94 2.06-2.06.94zm-11 1L8.5 8.5l.94-2.06 2.06-.94-2.06-.94L8.5 2.5l-.94 2.06-2.06.94zm10 10l.94 2.06.94-2.06 2.06-.94-2.06-.94-.94-2.06-.94 2.06-2.06.94z\"/><path d=\"M17.41 7.96l-1.37-1.37c-.4-.4-.92-.59-1.43-.59-.52 0-1.04.2-1.43.59L10.3 9.45l-7.72 7.72c-.78.78-.78 2.05 0 2.83L4 21.41c.39.39.9.59 1.41.59.51 0 1.02-.2 1.41-.59l7.78-7.78 2.81-2.81c.8-.78.8-2.07 0-2.86zM5.41 20L4 18.59l7.72-7.72 1.47 1.35L5.41 20z\"/>\n",
              "  </svg>\n",
              "      </button>\n",
              "      \n",
              "  <style>\n",
              "    .colab-df-container {\n",
              "      display:flex;\n",
              "      flex-wrap:wrap;\n",
              "      gap: 12px;\n",
              "    }\n",
              "\n",
              "    .colab-df-convert {\n",
              "      background-color: #E8F0FE;\n",
              "      border: none;\n",
              "      border-radius: 50%;\n",
              "      cursor: pointer;\n",
              "      display: none;\n",
              "      fill: #1967D2;\n",
              "      height: 32px;\n",
              "      padding: 0 0 0 0;\n",
              "      width: 32px;\n",
              "    }\n",
              "\n",
              "    .colab-df-convert:hover {\n",
              "      background-color: #E2EBFA;\n",
              "      box-shadow: 0px 1px 2px rgba(60, 64, 67, 0.3), 0px 1px 3px 1px rgba(60, 64, 67, 0.15);\n",
              "      fill: #174EA6;\n",
              "    }\n",
              "\n",
              "    [theme=dark] .colab-df-convert {\n",
              "      background-color: #3B4455;\n",
              "      fill: #D2E3FC;\n",
              "    }\n",
              "\n",
              "    [theme=dark] .colab-df-convert:hover {\n",
              "      background-color: #434B5C;\n",
              "      box-shadow: 0px 1px 3px 1px rgba(0, 0, 0, 0.15);\n",
              "      filter: drop-shadow(0px 1px 2px rgba(0, 0, 0, 0.3));\n",
              "      fill: #FFFFFF;\n",
              "    }\n",
              "  </style>\n",
              "\n",
              "      <script>\n",
              "        const buttonEl =\n",
              "          document.querySelector('#df-bb97b52d-ad22-408d-9130-45b443e2aa45 button.colab-df-convert');\n",
              "        buttonEl.style.display =\n",
              "          google.colab.kernel.accessAllowed ? 'block' : 'none';\n",
              "\n",
              "        async function convertToInteractive(key) {\n",
              "          const element = document.querySelector('#df-bb97b52d-ad22-408d-9130-45b443e2aa45');\n",
              "          const dataTable =\n",
              "            await google.colab.kernel.invokeFunction('convertToInteractive',\n",
              "                                                     [key], {});\n",
              "          if (!dataTable) return;\n",
              "\n",
              "          const docLinkHtml = 'Like what you see? Visit the ' +\n",
              "            '<a target=\"_blank\" href=https://colab.research.google.com/notebooks/data_table.ipynb>data table notebook</a>'\n",
              "            + ' to learn more about interactive tables.';\n",
              "          element.innerHTML = '';\n",
              "          dataTable['output_type'] = 'display_data';\n",
              "          await google.colab.output.renderOutput(dataTable, element);\n",
              "          const docLink = document.createElement('div');\n",
              "          docLink.innerHTML = docLinkHtml;\n",
              "          element.appendChild(docLink);\n",
              "        }\n",
              "      </script>\n",
              "    </div>\n",
              "  </div>\n",
              "  "
            ],
            "text/plain": [
              "                 DateTime  Latitude  Longitude  Depth  Magnitude MagType  \\\n",
              "0 1970-01-04 17:00:40.200    24.139    102.503   31.0        7.5      Ms   \n",
              "1 1970-01-06 05:35:51.800    -9.628    151.458    8.0        6.2      Ms   \n",
              "2 1970-01-08 17:12:39.100   -34.741    178.568  179.0        6.1      Mb   \n",
              "3 1970-01-10 12:07:08.600     6.825    126.737   73.0        6.1      Mb   \n",
              "4 1970-01-16 08:05:39.000    60.280   -152.660   85.0        6.0      ML   \n",
              "\n",
              "   NbStations  Gap  Distance  RMS Source       EventID  \n",
              "0        90.0  NaN       NaN  0.0    NEI  1.970010e+09  \n",
              "1        85.0  NaN       NaN  0.0    NEI  1.970011e+09  \n",
              "2        59.0  NaN       NaN  0.0    NEI  1.970011e+09  \n",
              "3        91.0  NaN       NaN  0.0    NEI  1.970011e+09  \n",
              "4         0.0  NaN       NaN  NaN     AK           NaN  "
            ]
          },
          "execution_count": 9,
          "metadata": {},
          "output_type": "execute_result"
        }
      ],
      "source": [
        "# Load the data and print the first 5 rows\n",
        "earthquakes = pd.read_csv(\"/content/drive/MyDrive/2023 데이터마이닝/dataset/earthquakes1970-2014.csv\", parse_dates=[\"DateTime\"])\n",
        "earthquakes.head()"
      ]
    },
    {
      "cell_type": "markdown",
      "metadata": {
        "id": "UkT4MnbjwT5-"
      },
      "source": [
        "아래의 코드 셀은 지도 상에 플레이트 경계를 시각화합니다. 플레이트 경계와 지진이 일치하는지 확인하기 위해 모든 지진 데이터를 사용하여 같은 지도에 히트맵을 추가하세요."
      ]
    },
    {
      "cell_type": "code",
      "execution_count": null,
      "metadata": {
        "colab": {
          "base_uri": "https://localhost:8080/",
          "height": 1000
        },
        "id": "fwreYZorwT5_",
        "outputId": "49af1eab-778c-4c32-f16c-687ca31d8b64"
      },
      "outputs": [
        {
          "data": {
            "text/html": [
              "\n",
              "        <iframe\n",
              "            width=\"100%\"\n",
              "            height=\"1000px\"\n",
              "            src=\"q_1.html\"\n",
              "            frameborder=\"0\"\n",
              "            allowfullscreen\n",
              "            \n",
              "        ></iframe>\n",
              "        "
            ],
            "text/plain": [
              "<IPython.lib.display.IFrame at 0x7f246821e110>"
            ]
          },
          "execution_count": 13,
          "metadata": {},
          "output_type": "execute_result"
        }
      ],
      "source": [
        "# Create a base map with plate boundaries\n",
        "m_1 = folium.Map(location=[35,136], tiles='cartodbpositron', zoom_start=5)\n",
        "for i in range(len(plate_boundaries)):\n",
        "    folium.PolyLine(locations=plate_boundaries.coordinates.iloc[i], weight=2, color='black').add_to(m_1)\n",
        "\n",
        "# Your code here: Add a heatmap to the map\n",
        "HeatMap(data=earthquakes[['Latitude', 'Longitude']], radius=15).add_to(m_1)\n",
        "\n",
        "# Uncomment to see a hint\n",
        "#q_1.a.hint()\n",
        "\n",
        "# Show the map\n",
        "embed_map(m_1, 'q_1.html')"
      ]
    },
    {
      "cell_type": "markdown",
      "metadata": {
        "id": "bg49p0YFwT6A"
      },
      "source": [
        "위의 지도를 기반으로 지진이 플레이트 경계와 일치하는지 확인해보면 어떻게 되나요?"
      ]
    },
    {
      "cell_type": "markdown",
      "metadata": {
        "id": "DDhBApvdwT6B"
      },
      "source": [
        "### 2) 일본에서 지진 깊이와 판 경계에 근접하는 것 사이에 관계가 있습니까?\n",
        "\n",
        "\n",
        "일본에서 지진의 깊이와 판 경계와의 근접성 사이에 관련이 있는지 궁금합니다. 최근에 읽은 바에 따르면, 지진의 깊이는 지구의 구조에 대한 [중요한 정보](https://www.usgs.gov/faqs/what-depth-do-earthquakes-occur-what-significance-depth?qt-news_science_products=0#qt-news_science_products)를 제공한다고 합니다. 전 세계적으로 흥미로운 패턴이 있는지 확인하고, 또한 일본에서 깊이가 어떻게 변하는지 이해하고 싶습니다.\n",
        "\n",
        "\n",
        "\n"
      ]
    },
    {
      "cell_type": "code",
      "execution_count": null,
      "metadata": {
        "colab": {
          "base_uri": "https://localhost:8080/",
          "height": 521
        },
        "id": "CMQOBTUBwT6B",
        "outputId": "457e3f90-ae79-4241-c8e2-9a8e0962695b"
      },
      "outputs": [
        {
          "data": {
            "text/html": [
              "\n",
              "        <iframe\n",
              "            width=\"100%\"\n",
              "            height=\"500px\"\n",
              "            src=\"q_2.html\"\n",
              "            frameborder=\"0\"\n",
              "            allowfullscreen\n",
              "            \n",
              "        ></iframe>\n",
              "        "
            ],
            "text/plain": [
              "<IPython.lib.display.IFrame at 0x7f2468933eb0>"
            ]
          },
          "execution_count": 11,
          "metadata": {},
          "output_type": "execute_result"
        }
      ],
      "source": [
        "# Create a base map with plate boundaries\n",
        "m_2 = folium.Map(location=[35,136], tiles='cartodbpositron', zoom_start=5)\n",
        "for i in range(len(plate_boundaries)):\n",
        "    folium.PolyLine(locations=plate_boundaries.coordinates.iloc[i], weight=2, color='black').add_to(m_2)\n",
        "    \n",
        "# Your code here: Add a map to visualize earthquake depth\n",
        "# Custom function to assign a color to each circle\n",
        "def color_producer(val):\n",
        "    if val < 50:\n",
        "        return 'forestgreen'\n",
        "    elif val < 100:\n",
        "        return 'darkorange'\n",
        "    else:\n",
        "        return 'darkred'\n",
        "\n",
        "# Add a map to visualize earthquake depth\n",
        "for i in range(0,len(earthquakes)):\n",
        "    folium.Circle(\n",
        "        location=[earthquakes.iloc[i]['Latitude'], earthquakes.iloc[i]['Longitude']],\n",
        "        radius=2000,\n",
        "        color=color_producer(earthquakes.iloc[i]['Depth'])).add_to(m_2)\n",
        "\n",
        "# Uncomment to see a hint\n",
        "#q_2.a.hint()\n",
        "\n",
        "# View the map\n",
        "embed_map(m_2, 'q_2.html')"
      ]
    },
    {
      "cell_type": "markdown",
      "metadata": {
        "id": "Hvr0ryK6wT6C"
      },
      "source": [
        "판 경계와 지진의 깊이 사이에 관계를 발견할 수 있나요? 이러한 패턴은 전 세계적으로 유지되나요? 일본에서도 마찬가지인가요?"
      ]
    },
    {
      "cell_type": "markdown",
      "metadata": {
        "id": "lnqA-BLawT6D"
      },
      "source": [
        "### 3) 인구 밀도가 높은 현은 어디입니까?\n",
        "\n",
        "다음 코드 셀을 실행하여 (변경하지 않고) 일본 지방의 지리적 경계를 포함하는 GeoDataFrame `prefectures`를 생성하세요."
      ]
    },
    {
      "cell_type": "code",
      "execution_count": null,
      "metadata": {
        "colab": {
          "base_uri": "https://localhost:8080/",
          "height": 235
        },
        "id": "EyBnzqe2wT6D",
        "outputId": "b628d7c7-5d43-494a-f3f2-77f5f360a5cf"
      },
      "outputs": [
        {
          "data": {
            "text/html": [
              "\n",
              "  <div id=\"df-806ca3dc-46a1-48ec-9264-2b628ada3c42\">\n",
              "    <div class=\"colab-df-container\">\n",
              "      <div>\n",
              "<style scoped>\n",
              "    .dataframe tbody tr th:only-of-type {\n",
              "        vertical-align: middle;\n",
              "    }\n",
              "\n",
              "    .dataframe tbody tr th {\n",
              "        vertical-align: top;\n",
              "    }\n",
              "\n",
              "    .dataframe thead th {\n",
              "        text-align: right;\n",
              "    }\n",
              "</style>\n",
              "<table border=\"1\" class=\"dataframe\">\n",
              "  <thead>\n",
              "    <tr style=\"text-align: right;\">\n",
              "      <th></th>\n",
              "      <th>geometry</th>\n",
              "    </tr>\n",
              "    <tr>\n",
              "      <th>prefecture</th>\n",
              "      <th></th>\n",
              "    </tr>\n",
              "  </thead>\n",
              "  <tbody>\n",
              "    <tr>\n",
              "      <th>Aichi</th>\n",
              "      <td>MULTIPOLYGON (((137.09523 34.65330, 137.09546 ...</td>\n",
              "    </tr>\n",
              "    <tr>\n",
              "      <th>Akita</th>\n",
              "      <td>MULTIPOLYGON (((139.55725 39.20330, 139.55765 ...</td>\n",
              "    </tr>\n",
              "    <tr>\n",
              "      <th>Aomori</th>\n",
              "      <td>MULTIPOLYGON (((141.39860 40.92472, 141.39806 ...</td>\n",
              "    </tr>\n",
              "    <tr>\n",
              "      <th>Chiba</th>\n",
              "      <td>MULTIPOLYGON (((139.82488 34.98967, 139.82434 ...</td>\n",
              "    </tr>\n",
              "    <tr>\n",
              "      <th>Ehime</th>\n",
              "      <td>MULTIPOLYGON (((132.55859 32.91224, 132.55904 ...</td>\n",
              "    </tr>\n",
              "  </tbody>\n",
              "</table>\n",
              "</div>\n",
              "      <button class=\"colab-df-convert\" onclick=\"convertToInteractive('df-806ca3dc-46a1-48ec-9264-2b628ada3c42')\"\n",
              "              title=\"Convert this dataframe to an interactive table.\"\n",
              "              style=\"display:none;\">\n",
              "        \n",
              "  <svg xmlns=\"http://www.w3.org/2000/svg\" height=\"24px\"viewBox=\"0 0 24 24\"\n",
              "       width=\"24px\">\n",
              "    <path d=\"M0 0h24v24H0V0z\" fill=\"none\"/>\n",
              "    <path d=\"M18.56 5.44l.94 2.06.94-2.06 2.06-.94-2.06-.94-.94-2.06-.94 2.06-2.06.94zm-11 1L8.5 8.5l.94-2.06 2.06-.94-2.06-.94L8.5 2.5l-.94 2.06-2.06.94zm10 10l.94 2.06.94-2.06 2.06-.94-2.06-.94-.94-2.06-.94 2.06-2.06.94z\"/><path d=\"M17.41 7.96l-1.37-1.37c-.4-.4-.92-.59-1.43-.59-.52 0-1.04.2-1.43.59L10.3 9.45l-7.72 7.72c-.78.78-.78 2.05 0 2.83L4 21.41c.39.39.9.59 1.41.59.51 0 1.02-.2 1.41-.59l7.78-7.78 2.81-2.81c.8-.78.8-2.07 0-2.86zM5.41 20L4 18.59l7.72-7.72 1.47 1.35L5.41 20z\"/>\n",
              "  </svg>\n",
              "      </button>\n",
              "      \n",
              "  <style>\n",
              "    .colab-df-container {\n",
              "      display:flex;\n",
              "      flex-wrap:wrap;\n",
              "      gap: 12px;\n",
              "    }\n",
              "\n",
              "    .colab-df-convert {\n",
              "      background-color: #E8F0FE;\n",
              "      border: none;\n",
              "      border-radius: 50%;\n",
              "      cursor: pointer;\n",
              "      display: none;\n",
              "      fill: #1967D2;\n",
              "      height: 32px;\n",
              "      padding: 0 0 0 0;\n",
              "      width: 32px;\n",
              "    }\n",
              "\n",
              "    .colab-df-convert:hover {\n",
              "      background-color: #E2EBFA;\n",
              "      box-shadow: 0px 1px 2px rgba(60, 64, 67, 0.3), 0px 1px 3px 1px rgba(60, 64, 67, 0.15);\n",
              "      fill: #174EA6;\n",
              "    }\n",
              "\n",
              "    [theme=dark] .colab-df-convert {\n",
              "      background-color: #3B4455;\n",
              "      fill: #D2E3FC;\n",
              "    }\n",
              "\n",
              "    [theme=dark] .colab-df-convert:hover {\n",
              "      background-color: #434B5C;\n",
              "      box-shadow: 0px 1px 3px 1px rgba(0, 0, 0, 0.15);\n",
              "      filter: drop-shadow(0px 1px 2px rgba(0, 0, 0, 0.3));\n",
              "      fill: #FFFFFF;\n",
              "    }\n",
              "  </style>\n",
              "\n",
              "      <script>\n",
              "        const buttonEl =\n",
              "          document.querySelector('#df-806ca3dc-46a1-48ec-9264-2b628ada3c42 button.colab-df-convert');\n",
              "        buttonEl.style.display =\n",
              "          google.colab.kernel.accessAllowed ? 'block' : 'none';\n",
              "\n",
              "        async function convertToInteractive(key) {\n",
              "          const element = document.querySelector('#df-806ca3dc-46a1-48ec-9264-2b628ada3c42');\n",
              "          const dataTable =\n",
              "            await google.colab.kernel.invokeFunction('convertToInteractive',\n",
              "                                                     [key], {});\n",
              "          if (!dataTable) return;\n",
              "\n",
              "          const docLinkHtml = 'Like what you see? Visit the ' +\n",
              "            '<a target=\"_blank\" href=https://colab.research.google.com/notebooks/data_table.ipynb>data table notebook</a>'\n",
              "            + ' to learn more about interactive tables.';\n",
              "          element.innerHTML = '';\n",
              "          dataTable['output_type'] = 'display_data';\n",
              "          await google.colab.output.renderOutput(dataTable, element);\n",
              "          const docLink = document.createElement('div');\n",
              "          docLink.innerHTML = docLinkHtml;\n",
              "          element.appendChild(docLink);\n",
              "        }\n",
              "      </script>\n",
              "    </div>\n",
              "  </div>\n",
              "  "
            ],
            "text/plain": [
              "                                                     geometry\n",
              "prefecture                                                   \n",
              "Aichi       MULTIPOLYGON (((137.09523 34.65330, 137.09546 ...\n",
              "Akita       MULTIPOLYGON (((139.55725 39.20330, 139.55765 ...\n",
              "Aomori      MULTIPOLYGON (((141.39860 40.92472, 141.39806 ...\n",
              "Chiba       MULTIPOLYGON (((139.82488 34.98967, 139.82434 ...\n",
              "Ehime       MULTIPOLYGON (((132.55859 32.91224, 132.55904 ..."
            ]
          },
          "execution_count": 16,
          "metadata": {},
          "output_type": "execute_result"
        }
      ],
      "source": [
        "# GeoDataFrame with prefecture boundaries\n",
        "prefectures = gpd.read_file(\"/content/drive/MyDrive/2023 데이터마이닝/dataset/japan-prefecture-boundaries/japan-prefecture-boundaries.shp\")\n",
        "prefectures.set_index('prefecture', inplace=True)\n",
        "prefectures.head()"
      ]
    },
    {
      "cell_type": "markdown",
      "metadata": {
        "id": "RUKEEkdPwT6D"
      },
      "source": [
        "다음 코드 셀은 일본 각 지방의 인구, 면적 (제곱 킬로미터), 인구 밀도 (제곱 킬로미터당)를 포함하는 DataFrame `stats`를 생성합니다. 코드 셀을 수정하지 않고 실행하세요."
      ]
    },
    {
      "cell_type": "code",
      "execution_count": null,
      "metadata": {
        "colab": {
          "base_uri": "https://localhost:8080/",
          "height": 235
        },
        "id": "QpsUwdaNwT6D",
        "outputId": "7bbb609e-dc43-45b0-82dd-46ed0351f251"
      },
      "outputs": [
        {
          "data": {
            "text/html": [
              "\n",
              "  <div id=\"df-b02b575d-ab53-4c83-8a9d-95c77fd63957\">\n",
              "    <div class=\"colab-df-container\">\n",
              "      <div>\n",
              "<style scoped>\n",
              "    .dataframe tbody tr th:only-of-type {\n",
              "        vertical-align: middle;\n",
              "    }\n",
              "\n",
              "    .dataframe tbody tr th {\n",
              "        vertical-align: top;\n",
              "    }\n",
              "\n",
              "    .dataframe thead th {\n",
              "        text-align: right;\n",
              "    }\n",
              "</style>\n",
              "<table border=\"1\" class=\"dataframe\">\n",
              "  <thead>\n",
              "    <tr style=\"text-align: right;\">\n",
              "      <th></th>\n",
              "      <th>population</th>\n",
              "      <th>area_sqkm</th>\n",
              "      <th>density</th>\n",
              "    </tr>\n",
              "    <tr>\n",
              "      <th>prefecture</th>\n",
              "      <th></th>\n",
              "      <th></th>\n",
              "      <th></th>\n",
              "    </tr>\n",
              "  </thead>\n",
              "  <tbody>\n",
              "    <tr>\n",
              "      <th>Tokyo</th>\n",
              "      <td>12868000</td>\n",
              "      <td>1800.614782</td>\n",
              "      <td>7146.448049</td>\n",
              "    </tr>\n",
              "    <tr>\n",
              "      <th>Kanagawa</th>\n",
              "      <td>8943000</td>\n",
              "      <td>2383.038975</td>\n",
              "      <td>3752.771186</td>\n",
              "    </tr>\n",
              "    <tr>\n",
              "      <th>Osaka</th>\n",
              "      <td>8801000</td>\n",
              "      <td>1923.151529</td>\n",
              "      <td>4576.342460</td>\n",
              "    </tr>\n",
              "    <tr>\n",
              "      <th>Aichi</th>\n",
              "      <td>7418000</td>\n",
              "      <td>5164.400005</td>\n",
              "      <td>1436.372085</td>\n",
              "    </tr>\n",
              "    <tr>\n",
              "      <th>Saitama</th>\n",
              "      <td>7130000</td>\n",
              "      <td>3794.036890</td>\n",
              "      <td>1879.264806</td>\n",
              "    </tr>\n",
              "  </tbody>\n",
              "</table>\n",
              "</div>\n",
              "      <button class=\"colab-df-convert\" onclick=\"convertToInteractive('df-b02b575d-ab53-4c83-8a9d-95c77fd63957')\"\n",
              "              title=\"Convert this dataframe to an interactive table.\"\n",
              "              style=\"display:none;\">\n",
              "        \n",
              "  <svg xmlns=\"http://www.w3.org/2000/svg\" height=\"24px\"viewBox=\"0 0 24 24\"\n",
              "       width=\"24px\">\n",
              "    <path d=\"M0 0h24v24H0V0z\" fill=\"none\"/>\n",
              "    <path d=\"M18.56 5.44l.94 2.06.94-2.06 2.06-.94-2.06-.94-.94-2.06-.94 2.06-2.06.94zm-11 1L8.5 8.5l.94-2.06 2.06-.94-2.06-.94L8.5 2.5l-.94 2.06-2.06.94zm10 10l.94 2.06.94-2.06 2.06-.94-2.06-.94-.94-2.06-.94 2.06-2.06.94z\"/><path d=\"M17.41 7.96l-1.37-1.37c-.4-.4-.92-.59-1.43-.59-.52 0-1.04.2-1.43.59L10.3 9.45l-7.72 7.72c-.78.78-.78 2.05 0 2.83L4 21.41c.39.39.9.59 1.41.59.51 0 1.02-.2 1.41-.59l7.78-7.78 2.81-2.81c.8-.78.8-2.07 0-2.86zM5.41 20L4 18.59l7.72-7.72 1.47 1.35L5.41 20z\"/>\n",
              "  </svg>\n",
              "      </button>\n",
              "      \n",
              "  <style>\n",
              "    .colab-df-container {\n",
              "      display:flex;\n",
              "      flex-wrap:wrap;\n",
              "      gap: 12px;\n",
              "    }\n",
              "\n",
              "    .colab-df-convert {\n",
              "      background-color: #E8F0FE;\n",
              "      border: none;\n",
              "      border-radius: 50%;\n",
              "      cursor: pointer;\n",
              "      display: none;\n",
              "      fill: #1967D2;\n",
              "      height: 32px;\n",
              "      padding: 0 0 0 0;\n",
              "      width: 32px;\n",
              "    }\n",
              "\n",
              "    .colab-df-convert:hover {\n",
              "      background-color: #E2EBFA;\n",
              "      box-shadow: 0px 1px 2px rgba(60, 64, 67, 0.3), 0px 1px 3px 1px rgba(60, 64, 67, 0.15);\n",
              "      fill: #174EA6;\n",
              "    }\n",
              "\n",
              "    [theme=dark] .colab-df-convert {\n",
              "      background-color: #3B4455;\n",
              "      fill: #D2E3FC;\n",
              "    }\n",
              "\n",
              "    [theme=dark] .colab-df-convert:hover {\n",
              "      background-color: #434B5C;\n",
              "      box-shadow: 0px 1px 3px 1px rgba(0, 0, 0, 0.15);\n",
              "      filter: drop-shadow(0px 1px 2px rgba(0, 0, 0, 0.3));\n",
              "      fill: #FFFFFF;\n",
              "    }\n",
              "  </style>\n",
              "\n",
              "      <script>\n",
              "        const buttonEl =\n",
              "          document.querySelector('#df-b02b575d-ab53-4c83-8a9d-95c77fd63957 button.colab-df-convert');\n",
              "        buttonEl.style.display =\n",
              "          google.colab.kernel.accessAllowed ? 'block' : 'none';\n",
              "\n",
              "        async function convertToInteractive(key) {\n",
              "          const element = document.querySelector('#df-b02b575d-ab53-4c83-8a9d-95c77fd63957');\n",
              "          const dataTable =\n",
              "            await google.colab.kernel.invokeFunction('convertToInteractive',\n",
              "                                                     [key], {});\n",
              "          if (!dataTable) return;\n",
              "\n",
              "          const docLinkHtml = 'Like what you see? Visit the ' +\n",
              "            '<a target=\"_blank\" href=https://colab.research.google.com/notebooks/data_table.ipynb>data table notebook</a>'\n",
              "            + ' to learn more about interactive tables.';\n",
              "          element.innerHTML = '';\n",
              "          dataTable['output_type'] = 'display_data';\n",
              "          await google.colab.output.renderOutput(dataTable, element);\n",
              "          const docLink = document.createElement('div');\n",
              "          docLink.innerHTML = docLinkHtml;\n",
              "          element.appendChild(docLink);\n",
              "        }\n",
              "      </script>\n",
              "    </div>\n",
              "  </div>\n",
              "  "
            ],
            "text/plain": [
              "            population    area_sqkm      density\n",
              "prefecture                                      \n",
              "Tokyo         12868000  1800.614782  7146.448049\n",
              "Kanagawa       8943000  2383.038975  3752.771186\n",
              "Osaka          8801000  1923.151529  4576.342460\n",
              "Aichi          7418000  5164.400005  1436.372085\n",
              "Saitama        7130000  3794.036890  1879.264806"
            ]
          },
          "execution_count": 17,
          "metadata": {},
          "output_type": "execute_result"
        }
      ],
      "source": [
        "# DataFrame containing population of each prefecture\n",
        "population = pd.read_csv(\"/content/drive/MyDrive/2023 데이터마이닝/dataset/japan-prefecture-population.csv\")\n",
        "population.set_index('prefecture', inplace=True)\n",
        "\n",
        "# Calculate area (in square kilometers) of each prefecture\n",
        "area_sqkm = pd.Series(prefectures.geometry.to_crs(epsg=32654).area / 10**6, name='area_sqkm')\n",
        "stats = population.join(area_sqkm)\n",
        "\n",
        "# Add density (per square kilometer) of each prefecture\n",
        "stats['density'] = stats[\"population\"] / stats[\"area_sqkm\"]\n",
        "stats.head()"
      ]
    },
    {
      "cell_type": "markdown",
      "metadata": {
        "id": "1QivIAQCwT6E"
      },
      "source": [
        "다음 코드 셀을 사용하여 인구 밀도를 시각화하는 동적 지도를 생성하세요."
      ]
    },
    {
      "cell_type": "code",
      "execution_count": null,
      "metadata": {
        "colab": {
          "base_uri": "https://localhost:8080/",
          "height": 1000
        },
        "id": "RSFKJALswT6E",
        "outputId": "e602b391-9013-4188-b6fb-b33e45bd56f1"
      },
      "outputs": [
        {
          "data": {
            "text/html": [
              "\n",
              "        <iframe\n",
              "            width=\"100%\"\n",
              "            height=\"1000px\"\n",
              "            src=\"q_3.html\"\n",
              "            frameborder=\"0\"\n",
              "            allowfullscreen\n",
              "            \n",
              "        ></iframe>\n",
              "        "
            ],
            "text/plain": [
              "<IPython.lib.display.IFrame at 0x7f2469946ec0>"
            ]
          },
          "execution_count": 19,
          "metadata": {},
          "output_type": "execute_result"
        }
      ],
      "source": [
        "# Create a base map\n",
        "m_3 = folium.Map(location=[35,136], tiles='cartodbpositron', zoom_start=5)\n",
        "\n",
        "# Your code here: create a choropleth map to visualize population density\n",
        "Choropleth(geo_data=prefectures['geometry'].__geo_interface__,\n",
        "           data=stats['density'],\n",
        "           key_on=\"feature.id\",\n",
        "           fill_color='YlGnBu',\n",
        "           legend_name='Population density (per square kilometer)'\n",
        "          ).add_to(m_3)\n",
        "\n",
        "# View the map\n",
        "embed_map(m_3, 'q_3.html')"
      ]
    },
    {
      "cell_type": "markdown",
      "metadata": {
        "id": "BsXYlizswT6E"
      },
      "source": [
        "세 개의 지방은 다른 지역보다 상대적으로 더 높은 인구 밀도를 가지고 있나요? 그 지역은 전국적으로 분산되어 있나요, 아니면 거의 동일한 지리적 지역에 위치해 있나요? (*일본 지리에 익숙하지 않은 경우, [이 링크](https://en.wikipedia.org/wiki/Prefectures_of_Japan)를 사용하여 질문에 대답하는 데 도움이 될 수 있습니다.*)"
      ]
    },
    {
      "cell_type": "markdown",
      "metadata": {
        "id": "UIsZLKcuwT6F"
      },
      "source": [
        "### 4) 고밀도 지방 중에서 강진이 높은 지방은 어디인가요?\n",
        "\n",
        "방진 보강이 필요한 지방을 제안하기 위해 맵을 생성하세요. 맵은 인구 밀도와 지진 규모를 시각화해야 합니다.  \n",
        "번역된 내용에 맞게 이해하셨다면, 다음 코드 셀을 실행하여 고밀도와 지진 규모를 시각화하는 맵을 생성하세요."
      ]
    },
    {
      "cell_type": "code",
      "execution_count": null,
      "metadata": {
        "colab": {
          "base_uri": "https://localhost:8080/",
          "height": 1000
        },
        "id": "ePKJ2LrKwT6F",
        "outputId": "5a34820d-b00c-4af2-94bd-1c062fa28540"
      },
      "outputs": [
        {
          "data": {
            "text/html": [
              "\n",
              "        <iframe\n",
              "            width=\"100%\"\n",
              "            height=\"1000px\"\n",
              "            src=\"q_4.html\"\n",
              "            frameborder=\"0\"\n",
              "            allowfullscreen\n",
              "            \n",
              "        ></iframe>\n",
              "        "
            ],
            "text/plain": [
              "<IPython.lib.display.IFrame at 0x7f24591aa5f0>"
            ]
          },
          "execution_count": 20,
          "metadata": {},
          "output_type": "execute_result"
        }
      ],
      "source": [
        "# Create a base map\n",
        "m_4 = folium.Map(location=[35,136], tiles='cartodbpositron', zoom_start=5)\n",
        "\n",
        "# Your code here: create a map\n",
        "# Create a map\n",
        "def color_producer(magnitude):\n",
        "    if magnitude > 6.5:\n",
        "        return 'red'\n",
        "    else:\n",
        "        return 'green'\n",
        "\n",
        "Choropleth(\n",
        "    geo_data=prefectures['geometry'].__geo_interface__,\n",
        "    data=stats['density'],\n",
        "    key_on=\"feature.id\",\n",
        "    fill_color='BuPu',\n",
        "    legend_name='Population density (per square kilometer)').add_to(m_4)\n",
        "\n",
        "for i in range(0,len(earthquakes)):\n",
        "    folium.Circle(\n",
        "        location=[earthquakes.iloc[i]['Latitude'], earthquakes.iloc[i]['Longitude']],\n",
        "        popup=(\"{} ({})\").format(\n",
        "            earthquakes.iloc[i]['Magnitude'],\n",
        "            earthquakes.iloc[i]['DateTime'].year),\n",
        "        radius=earthquakes.iloc[i]['Magnitude']**5.5,\n",
        "        color=color_producer(earthquakes.iloc[i]['Magnitude'])).add_to(m_4)\n",
        "        \n",
        "# Uncomment to see a hint\n",
        "#q_4.a.hint()\n",
        "\n",
        "# View the map\n",
        "embed_map(m_4, 'q_4.html')"
      ]
    },
    {
      "cell_type": "markdown",
      "metadata": {
        "id": "1j2mk9YIwT6F"
      },
      "source": [
        "추가 지진 보강을 위해 어떤 도를 추천하시겠습니까?"
      ]
    },
    {
      "cell_type": "markdown",
      "metadata": {
        "id": "XT_uNkAlzq-d"
      },
      "source": [
        "인구 밀도와 지진 규모를 시각화한 지도를 기반으로, 저는 추가 지진 보강을 위해 도쿄도를 추천합니다. 도쿄는 인구 밀도가 높고 고규모 지진이 발생하기 쉬운 지역입니다. 따라서 도쿄에서 지진 보강 조치에 우선순위를 두어 인구의 안전과 회복력을 보장하는 것이 매우 중요합니다."
      ]
    }
  ],
  "metadata": {
    "colab": {
      "provenance": []
    },
    "kernelspec": {
      "display_name": "Python 3.9.1 64-bit",
      "language": "python",
      "name": "python3"
    },
    "language_info": {
      "codemirror_mode": {
        "name": "ipython",
        "version": 3
      },
      "file_extension": ".py",
      "mimetype": "text/x-python",
      "name": "python",
      "nbconvert_exporter": "python",
      "pygments_lexer": "ipython3",
      "version": "3.9.1"
    },
    "vscode": {
      "interpreter": {
        "hash": "397704579725e15f5c7cb49fe5f0341eb7531c82d19f2c29d197e8b64ab5776b"
      }
    }
  },
  "nbformat": 4,
  "nbformat_minor": 0
}
