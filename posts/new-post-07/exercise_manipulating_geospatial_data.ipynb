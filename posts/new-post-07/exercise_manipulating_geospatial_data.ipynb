{
  "cells": [
    {
      "cell_type": "markdown",
      "metadata": {},
      "source": [
        "---\n",
        "title: \"Kaggle_exercise_04\"\n",
        "author: \"minstar\"\n",
        "date: \"2023-05-18\"\n",
        "categories: [python]\n",
        "---\n",
        "kaggle 문제풀이 04\n",
        "https://www.kaggle.com/code/lsiina/exercise-manipulating-geospatial-data/edit"
      ]
    },
    {
      "cell_type": "markdown",
      "metadata": {
        "id": "O0HCtjQqz5aV"
      },
      "source": [
        "# 소개\n",
        "\n",
        "당신은 스타벅스의 빅데이터 분석가입니다 ([실제로 존재하는 직업입니다!](https://www.forbes.com/sites/bernardmarr/2018/05/28/starbucks-using-big-data-analytics-and-artificial-intelligence-to-boost-performance/#130c7d765cdc)). 당신은 [스타벅스 리저브 로스터리](https://www.businessinsider.com/starbucks-reserve-roastery-compared-regular-starbucks-2018-12#also-on-the-first-floor-was-the-main-coffee-bar-five-hourglass-like-units-hold-the-freshly-roasted-coffee-beans-that-are-used-in-each-order-the-selection-rotates-seasonally-5)에 다음 매장을 찾기 위해 캘리포니아 주의 다양한 군지역의 인구 통계를 조사할 것입니다.\n",
        "\n",
        "<center>\n",
        "<img src=\"https://storage.googleapis.com/kaggle-media/learn/images/BIyE6kR.png\" width=\"450\"><br/><br/>\n",
        "</center>\n",
        "\n",
        "시작하기 전에, 아래의 코드 셀을 실행하여 모든 설정을 완료하세요."
      ]
    },
    {
      "cell_type": "code",
      "execution_count": null,
      "metadata": {
        "colab": {
          "base_uri": "https://localhost:8080/"
        },
        "id": "iKVIWde6rB80",
        "outputId": "2bd2eb62-ce59-49b4-f605-a1cfec6b16ae"
      },
      "outputs": [
        {
          "name": "stdout",
          "output_type": "stream",
          "text": [
            "Looking in indexes: https://pypi.org/simple, https://us-python.pkg.dev/colab-wheels/public/simple/\n",
            "Collecting geopandas\n",
            "  Downloading geopandas-0.13.0-py3-none-any.whl (1.1 MB)\n",
            "\u001b[2K     \u001b[90m━━━━━━━━━━━━━━━━━━━━━━━━━━━━━━━━━━━━━━━━\u001b[0m \u001b[32m1.1/1.1 MB\u001b[0m \u001b[31m15.7 MB/s\u001b[0m eta \u001b[36m0:00:00\u001b[0m\n",
            "\u001b[?25hCollecting fiona>=1.8.19 (from geopandas)\n",
            "  Downloading Fiona-1.9.4-cp310-cp310-manylinux_2_17_x86_64.manylinux2014_x86_64.whl (16.5 MB)\n",
            "\u001b[2K     \u001b[90m━━━━━━━━━━━━━━━━━━━━━━━━━━━━━━━━━━━━━━━━\u001b[0m \u001b[32m16.5/16.5 MB\u001b[0m \u001b[31m47.2 MB/s\u001b[0m eta \u001b[36m0:00:00\u001b[0m\n",
            "\u001b[?25hRequirement already satisfied: packaging in /usr/local/lib/python3.10/dist-packages (from geopandas) (23.1)\n",
            "Requirement already satisfied: pandas>=1.1.0 in /usr/local/lib/python3.10/dist-packages (from geopandas) (1.5.3)\n",
            "Collecting pyproj>=3.0.1 (from geopandas)\n",
            "  Downloading pyproj-3.5.0-cp310-cp310-manylinux_2_17_x86_64.manylinux2014_x86_64.whl (7.7 MB)\n",
            "\u001b[2K     \u001b[90m━━━━━━━━━━━━━━━━━━━━━━━━━━━━━━━━━━━━━━━━\u001b[0m \u001b[32m7.7/7.7 MB\u001b[0m \u001b[31m49.6 MB/s\u001b[0m eta \u001b[36m0:00:00\u001b[0m\n",
            "\u001b[?25hRequirement already satisfied: shapely>=1.7.1 in /usr/local/lib/python3.10/dist-packages (from geopandas) (2.0.1)\n",
            "Requirement already satisfied: attrs>=19.2.0 in /usr/local/lib/python3.10/dist-packages (from fiona>=1.8.19->geopandas) (23.1.0)\n",
            "Requirement already satisfied: certifi in /usr/local/lib/python3.10/dist-packages (from fiona>=1.8.19->geopandas) (2022.12.7)\n",
            "Requirement already satisfied: click~=8.0 in /usr/local/lib/python3.10/dist-packages (from fiona>=1.8.19->geopandas) (8.1.3)\n",
            "Collecting click-plugins>=1.0 (from fiona>=1.8.19->geopandas)\n",
            "  Downloading click_plugins-1.1.1-py2.py3-none-any.whl (7.5 kB)\n",
            "Collecting cligj>=0.5 (from fiona>=1.8.19->geopandas)\n",
            "  Downloading cligj-0.7.2-py3-none-any.whl (7.1 kB)\n",
            "Requirement already satisfied: six in /usr/local/lib/python3.10/dist-packages (from fiona>=1.8.19->geopandas) (1.16.0)\n",
            "Requirement already satisfied: python-dateutil>=2.8.1 in /usr/local/lib/python3.10/dist-packages (from pandas>=1.1.0->geopandas) (2.8.2)\n",
            "Requirement already satisfied: pytz>=2020.1 in /usr/local/lib/python3.10/dist-packages (from pandas>=1.1.0->geopandas) (2022.7.1)\n",
            "Requirement already satisfied: numpy>=1.21.0 in /usr/local/lib/python3.10/dist-packages (from pandas>=1.1.0->geopandas) (1.22.4)\n",
            "Installing collected packages: pyproj, cligj, click-plugins, fiona, geopandas\n",
            "Successfully installed click-plugins-1.1.1 cligj-0.7.2 fiona-1.9.4 geopandas-0.13.0 pyproj-3.5.0\n"
          ]
        }
      ],
      "source": [
        "!pip install geopandas"
      ]
    },
    {
      "cell_type": "code",
      "execution_count": null,
      "metadata": {
        "id": "yW8DR_Ttz5aV"
      },
      "outputs": [],
      "source": [
        "import math\n",
        "import pandas as pd\n",
        "import geopandas as gpd\n",
        "from geopy.geocoders import Nominatim            # What you'd normally run\n",
        "#from learntools.geospatial.tools import Nominatim # Just for this exercise\n",
        "\n",
        "import folium \n",
        "from folium import Marker\n",
        "from folium.plugins import MarkerCluster"
      ]
    },
    {
      "cell_type": "markdown",
      "metadata": {
        "id": "rH2738Gaz5aW"
      },
      "source": [
        "이전 연습에서 사용한 `embed_map()` 함수를 사용하여 지도를 시각화합니다."
      ]
    },
    {
      "cell_type": "code",
      "execution_count": null,
      "metadata": {
        "id": "evEnr6iRz5aX"
      },
      "outputs": [],
      "source": [
        "def embed_map(m, file_name):\n",
        "    from IPython.display import IFrame\n",
        "    m.save(file_name)\n",
        "    return IFrame(file_name, width='100%', height='500px')"
      ]
    },
    {
      "cell_type": "markdown",
      "metadata": {
        "id": "9I_aS0rIz5aX"
      },
      "source": [
        "# 연습\n",
        "\n",
        "### 1) 누락된 위치에 대해 지오코딩하기\n",
        "\n",
        "다음 코드 셀을 실행하여 캘리포니아 주에 있는 스타벅스 매장을 포함하는 DataFrame `starbucks`를 생성합니다."
      ]
    },
    {
      "cell_type": "code",
      "execution_count": null,
      "metadata": {
        "colab": {
          "base_uri": "https://localhost:8080/"
        },
        "id": "S9QOAaiSrUJJ",
        "outputId": "967b358a-8464-4ab7-e198-7307ff7fd6ce"
      },
      "outputs": [
        {
          "name": "stdout",
          "output_type": "stream",
          "text": [
            "Mounted at /content/drive\n"
          ]
        }
      ],
      "source": [
        "from google.colab import drive\n",
        "drive.mount('/content/drive')"
      ]
    },
    {
      "cell_type": "code",
      "execution_count": null,
      "metadata": {
        "colab": {
          "base_uri": "https://localhost:8080/",
          "height": 204
        },
        "id": "hR_zOVkxz5aX",
        "outputId": "4bda37a0-9c07-456b-eb49-fc067f709ee7"
      },
      "outputs": [
        {
          "data": {
            "text/html": [
              "\n",
              "  <div id=\"df-306a98ed-a05b-4838-9615-947f57e99172\">\n",
              "    <div class=\"colab-df-container\">\n",
              "      <div>\n",
              "<style scoped>\n",
              "    .dataframe tbody tr th:only-of-type {\n",
              "        vertical-align: middle;\n",
              "    }\n",
              "\n",
              "    .dataframe tbody tr th {\n",
              "        vertical-align: top;\n",
              "    }\n",
              "\n",
              "    .dataframe thead th {\n",
              "        text-align: right;\n",
              "    }\n",
              "</style>\n",
              "<table border=\"1\" class=\"dataframe\">\n",
              "  <thead>\n",
              "    <tr style=\"text-align: right;\">\n",
              "      <th></th>\n",
              "      <th>Store Number</th>\n",
              "      <th>Store Name</th>\n",
              "      <th>Address</th>\n",
              "      <th>City</th>\n",
              "      <th>Longitude</th>\n",
              "      <th>Latitude</th>\n",
              "    </tr>\n",
              "  </thead>\n",
              "  <tbody>\n",
              "    <tr>\n",
              "      <th>0</th>\n",
              "      <td>10429-100710</td>\n",
              "      <td>Palmdale &amp; Hwy 395</td>\n",
              "      <td>14136 US Hwy 395 Adelanto CA</td>\n",
              "      <td>Adelanto</td>\n",
              "      <td>-117.40</td>\n",
              "      <td>34.51</td>\n",
              "    </tr>\n",
              "    <tr>\n",
              "      <th>1</th>\n",
              "      <td>635-352</td>\n",
              "      <td>Kanan &amp; Thousand Oaks</td>\n",
              "      <td>5827 Kanan Road Agoura CA</td>\n",
              "      <td>Agoura</td>\n",
              "      <td>-118.76</td>\n",
              "      <td>34.16</td>\n",
              "    </tr>\n",
              "    <tr>\n",
              "      <th>2</th>\n",
              "      <td>74510-27669</td>\n",
              "      <td>Vons-Agoura Hills #2001</td>\n",
              "      <td>5671 Kanan Rd. Agoura Hills CA</td>\n",
              "      <td>Agoura Hills</td>\n",
              "      <td>-118.76</td>\n",
              "      <td>34.15</td>\n",
              "    </tr>\n",
              "    <tr>\n",
              "      <th>3</th>\n",
              "      <td>29839-255026</td>\n",
              "      <td>Target Anaheim T-0677</td>\n",
              "      <td>8148 E SANTA ANA CANYON ROAD AHAHEIM CA</td>\n",
              "      <td>AHAHEIM</td>\n",
              "      <td>-117.75</td>\n",
              "      <td>33.87</td>\n",
              "    </tr>\n",
              "    <tr>\n",
              "      <th>4</th>\n",
              "      <td>23463-230284</td>\n",
              "      <td>Safeway - Alameda 3281</td>\n",
              "      <td>2600 5th Street Alameda CA</td>\n",
              "      <td>Alameda</td>\n",
              "      <td>-122.28</td>\n",
              "      <td>37.79</td>\n",
              "    </tr>\n",
              "  </tbody>\n",
              "</table>\n",
              "</div>\n",
              "      <button class=\"colab-df-convert\" onclick=\"convertToInteractive('df-306a98ed-a05b-4838-9615-947f57e99172')\"\n",
              "              title=\"Convert this dataframe to an interactive table.\"\n",
              "              style=\"display:none;\">\n",
              "        \n",
              "  <svg xmlns=\"http://www.w3.org/2000/svg\" height=\"24px\"viewBox=\"0 0 24 24\"\n",
              "       width=\"24px\">\n",
              "    <path d=\"M0 0h24v24H0V0z\" fill=\"none\"/>\n",
              "    <path d=\"M18.56 5.44l.94 2.06.94-2.06 2.06-.94-2.06-.94-.94-2.06-.94 2.06-2.06.94zm-11 1L8.5 8.5l.94-2.06 2.06-.94-2.06-.94L8.5 2.5l-.94 2.06-2.06.94zm10 10l.94 2.06.94-2.06 2.06-.94-2.06-.94-.94-2.06-.94 2.06-2.06.94z\"/><path d=\"M17.41 7.96l-1.37-1.37c-.4-.4-.92-.59-1.43-.59-.52 0-1.04.2-1.43.59L10.3 9.45l-7.72 7.72c-.78.78-.78 2.05 0 2.83L4 21.41c.39.39.9.59 1.41.59.51 0 1.02-.2 1.41-.59l7.78-7.78 2.81-2.81c.8-.78.8-2.07 0-2.86zM5.41 20L4 18.59l7.72-7.72 1.47 1.35L5.41 20z\"/>\n",
              "  </svg>\n",
              "      </button>\n",
              "      \n",
              "  <style>\n",
              "    .colab-df-container {\n",
              "      display:flex;\n",
              "      flex-wrap:wrap;\n",
              "      gap: 12px;\n",
              "    }\n",
              "\n",
              "    .colab-df-convert {\n",
              "      background-color: #E8F0FE;\n",
              "      border: none;\n",
              "      border-radius: 50%;\n",
              "      cursor: pointer;\n",
              "      display: none;\n",
              "      fill: #1967D2;\n",
              "      height: 32px;\n",
              "      padding: 0 0 0 0;\n",
              "      width: 32px;\n",
              "    }\n",
              "\n",
              "    .colab-df-convert:hover {\n",
              "      background-color: #E2EBFA;\n",
              "      box-shadow: 0px 1px 2px rgba(60, 64, 67, 0.3), 0px 1px 3px 1px rgba(60, 64, 67, 0.15);\n",
              "      fill: #174EA6;\n",
              "    }\n",
              "\n",
              "    [theme=dark] .colab-df-convert {\n",
              "      background-color: #3B4455;\n",
              "      fill: #D2E3FC;\n",
              "    }\n",
              "\n",
              "    [theme=dark] .colab-df-convert:hover {\n",
              "      background-color: #434B5C;\n",
              "      box-shadow: 0px 1px 3px 1px rgba(0, 0, 0, 0.15);\n",
              "      filter: drop-shadow(0px 1px 2px rgba(0, 0, 0, 0.3));\n",
              "      fill: #FFFFFF;\n",
              "    }\n",
              "  </style>\n",
              "\n",
              "      <script>\n",
              "        const buttonEl =\n",
              "          document.querySelector('#df-306a98ed-a05b-4838-9615-947f57e99172 button.colab-df-convert');\n",
              "        buttonEl.style.display =\n",
              "          google.colab.kernel.accessAllowed ? 'block' : 'none';\n",
              "\n",
              "        async function convertToInteractive(key) {\n",
              "          const element = document.querySelector('#df-306a98ed-a05b-4838-9615-947f57e99172');\n",
              "          const dataTable =\n",
              "            await google.colab.kernel.invokeFunction('convertToInteractive',\n",
              "                                                     [key], {});\n",
              "          if (!dataTable) return;\n",
              "\n",
              "          const docLinkHtml = 'Like what you see? Visit the ' +\n",
              "            '<a target=\"_blank\" href=https://colab.research.google.com/notebooks/data_table.ipynb>data table notebook</a>'\n",
              "            + ' to learn more about interactive tables.';\n",
              "          element.innerHTML = '';\n",
              "          dataTable['output_type'] = 'display_data';\n",
              "          await google.colab.output.renderOutput(dataTable, element);\n",
              "          const docLink = document.createElement('div');\n",
              "          docLink.innerHTML = docLinkHtml;\n",
              "          element.appendChild(docLink);\n",
              "        }\n",
              "      </script>\n",
              "    </div>\n",
              "  </div>\n",
              "  "
            ],
            "text/plain": [
              "   Store Number               Store Name  \\\n",
              "0  10429-100710       Palmdale & Hwy 395   \n",
              "1       635-352    Kanan & Thousand Oaks   \n",
              "2   74510-27669  Vons-Agoura Hills #2001   \n",
              "3  29839-255026    Target Anaheim T-0677   \n",
              "4  23463-230284   Safeway - Alameda 3281   \n",
              "\n",
              "                                   Address          City  Longitude  Latitude  \n",
              "0             14136 US Hwy 395 Adelanto CA      Adelanto    -117.40     34.51  \n",
              "1                5827 Kanan Road Agoura CA        Agoura    -118.76     34.16  \n",
              "2           5671 Kanan Rd. Agoura Hills CA  Agoura Hills    -118.76     34.15  \n",
              "3  8148 E SANTA ANA CANYON ROAD AHAHEIM CA       AHAHEIM    -117.75     33.87  \n",
              "4               2600 5th Street Alameda CA       Alameda    -122.28     37.79  "
            ]
          },
          "execution_count": 5,
          "metadata": {},
          "output_type": "execute_result"
        }
      ],
      "source": [
        "# Load and preview Starbucks locations in California\n",
        "starbucks = pd.read_csv(\"/content/drive/MyDrive/2023 데이터마이닝/dataset/starbucks_locations.csv\")\n",
        "starbucks.head()"
      ]
    },
    {
      "cell_type": "markdown",
      "metadata": {
        "id": "xNxV2DtEz5aX"
      },
      "source": [
        "대부분의 매장은 알려진 (위도, 경도) 위치를 가지고 있습니다. 그러나 버클리 시의 모든 위치는 누락되어 있습니다."
      ]
    },
    {
      "cell_type": "code",
      "execution_count": null,
      "metadata": {
        "colab": {
          "base_uri": "https://localhost:8080/",
          "height": 323
        },
        "id": "q8L7OuCDz5aY",
        "outputId": "522039ac-5e96-429f-958a-3dbb32148d93"
      },
      "outputs": [
        {
          "name": "stdout",
          "output_type": "stream",
          "text": [
            "Store Number    0\n",
            "Store Name      0\n",
            "Address         0\n",
            "City            0\n",
            "Longitude       5\n",
            "Latitude        5\n",
            "dtype: int64\n"
          ]
        },
        {
          "data": {
            "text/html": [
              "\n",
              "  <div id=\"df-45932009-a614-4d34-857a-d55b740c226b\">\n",
              "    <div class=\"colab-df-container\">\n",
              "      <div>\n",
              "<style scoped>\n",
              "    .dataframe tbody tr th:only-of-type {\n",
              "        vertical-align: middle;\n",
              "    }\n",
              "\n",
              "    .dataframe tbody tr th {\n",
              "        vertical-align: top;\n",
              "    }\n",
              "\n",
              "    .dataframe thead th {\n",
              "        text-align: right;\n",
              "    }\n",
              "</style>\n",
              "<table border=\"1\" class=\"dataframe\">\n",
              "  <thead>\n",
              "    <tr style=\"text-align: right;\">\n",
              "      <th></th>\n",
              "      <th>Store Number</th>\n",
              "      <th>Store Name</th>\n",
              "      <th>Address</th>\n",
              "      <th>City</th>\n",
              "      <th>Longitude</th>\n",
              "      <th>Latitude</th>\n",
              "    </tr>\n",
              "  </thead>\n",
              "  <tbody>\n",
              "    <tr>\n",
              "      <th>153</th>\n",
              "      <td>5406-945</td>\n",
              "      <td>2224 Shattuck - Berkeley</td>\n",
              "      <td>2224 Shattuck Avenue Berkeley CA</td>\n",
              "      <td>Berkeley</td>\n",
              "      <td>NaN</td>\n",
              "      <td>NaN</td>\n",
              "    </tr>\n",
              "    <tr>\n",
              "      <th>154</th>\n",
              "      <td>570-512</td>\n",
              "      <td>Solano Ave</td>\n",
              "      <td>1799 Solano Avenue Berkeley CA</td>\n",
              "      <td>Berkeley</td>\n",
              "      <td>NaN</td>\n",
              "      <td>NaN</td>\n",
              "    </tr>\n",
              "    <tr>\n",
              "      <th>155</th>\n",
              "      <td>17877-164526</td>\n",
              "      <td>Safeway - Berkeley #691</td>\n",
              "      <td>1444 Shattuck Place Berkeley CA</td>\n",
              "      <td>Berkeley</td>\n",
              "      <td>NaN</td>\n",
              "      <td>NaN</td>\n",
              "    </tr>\n",
              "    <tr>\n",
              "      <th>156</th>\n",
              "      <td>19864-202264</td>\n",
              "      <td>Telegraph &amp; Ashby</td>\n",
              "      <td>3001 Telegraph Avenue Berkeley CA</td>\n",
              "      <td>Berkeley</td>\n",
              "      <td>NaN</td>\n",
              "      <td>NaN</td>\n",
              "    </tr>\n",
              "    <tr>\n",
              "      <th>157</th>\n",
              "      <td>9217-9253</td>\n",
              "      <td>2128 Oxford St.</td>\n",
              "      <td>2128 Oxford Street Berkeley CA</td>\n",
              "      <td>Berkeley</td>\n",
              "      <td>NaN</td>\n",
              "      <td>NaN</td>\n",
              "    </tr>\n",
              "  </tbody>\n",
              "</table>\n",
              "</div>\n",
              "      <button class=\"colab-df-convert\" onclick=\"convertToInteractive('df-45932009-a614-4d34-857a-d55b740c226b')\"\n",
              "              title=\"Convert this dataframe to an interactive table.\"\n",
              "              style=\"display:none;\">\n",
              "        \n",
              "  <svg xmlns=\"http://www.w3.org/2000/svg\" height=\"24px\"viewBox=\"0 0 24 24\"\n",
              "       width=\"24px\">\n",
              "    <path d=\"M0 0h24v24H0V0z\" fill=\"none\"/>\n",
              "    <path d=\"M18.56 5.44l.94 2.06.94-2.06 2.06-.94-2.06-.94-.94-2.06-.94 2.06-2.06.94zm-11 1L8.5 8.5l.94-2.06 2.06-.94-2.06-.94L8.5 2.5l-.94 2.06-2.06.94zm10 10l.94 2.06.94-2.06 2.06-.94-2.06-.94-.94-2.06-.94 2.06-2.06.94z\"/><path d=\"M17.41 7.96l-1.37-1.37c-.4-.4-.92-.59-1.43-.59-.52 0-1.04.2-1.43.59L10.3 9.45l-7.72 7.72c-.78.78-.78 2.05 0 2.83L4 21.41c.39.39.9.59 1.41.59.51 0 1.02-.2 1.41-.59l7.78-7.78 2.81-2.81c.8-.78.8-2.07 0-2.86zM5.41 20L4 18.59l7.72-7.72 1.47 1.35L5.41 20z\"/>\n",
              "  </svg>\n",
              "      </button>\n",
              "      \n",
              "  <style>\n",
              "    .colab-df-container {\n",
              "      display:flex;\n",
              "      flex-wrap:wrap;\n",
              "      gap: 12px;\n",
              "    }\n",
              "\n",
              "    .colab-df-convert {\n",
              "      background-color: #E8F0FE;\n",
              "      border: none;\n",
              "      border-radius: 50%;\n",
              "      cursor: pointer;\n",
              "      display: none;\n",
              "      fill: #1967D2;\n",
              "      height: 32px;\n",
              "      padding: 0 0 0 0;\n",
              "      width: 32px;\n",
              "    }\n",
              "\n",
              "    .colab-df-convert:hover {\n",
              "      background-color: #E2EBFA;\n",
              "      box-shadow: 0px 1px 2px rgba(60, 64, 67, 0.3), 0px 1px 3px 1px rgba(60, 64, 67, 0.15);\n",
              "      fill: #174EA6;\n",
              "    }\n",
              "\n",
              "    [theme=dark] .colab-df-convert {\n",
              "      background-color: #3B4455;\n",
              "      fill: #D2E3FC;\n",
              "    }\n",
              "\n",
              "    [theme=dark] .colab-df-convert:hover {\n",
              "      background-color: #434B5C;\n",
              "      box-shadow: 0px 1px 3px 1px rgba(0, 0, 0, 0.15);\n",
              "      filter: drop-shadow(0px 1px 2px rgba(0, 0, 0, 0.3));\n",
              "      fill: #FFFFFF;\n",
              "    }\n",
              "  </style>\n",
              "\n",
              "      <script>\n",
              "        const buttonEl =\n",
              "          document.querySelector('#df-45932009-a614-4d34-857a-d55b740c226b button.colab-df-convert');\n",
              "        buttonEl.style.display =\n",
              "          google.colab.kernel.accessAllowed ? 'block' : 'none';\n",
              "\n",
              "        async function convertToInteractive(key) {\n",
              "          const element = document.querySelector('#df-45932009-a614-4d34-857a-d55b740c226b');\n",
              "          const dataTable =\n",
              "            await google.colab.kernel.invokeFunction('convertToInteractive',\n",
              "                                                     [key], {});\n",
              "          if (!dataTable) return;\n",
              "\n",
              "          const docLinkHtml = 'Like what you see? Visit the ' +\n",
              "            '<a target=\"_blank\" href=https://colab.research.google.com/notebooks/data_table.ipynb>data table notebook</a>'\n",
              "            + ' to learn more about interactive tables.';\n",
              "          element.innerHTML = '';\n",
              "          dataTable['output_type'] = 'display_data';\n",
              "          await google.colab.output.renderOutput(dataTable, element);\n",
              "          const docLink = document.createElement('div');\n",
              "          docLink.innerHTML = docLinkHtml;\n",
              "          element.appendChild(docLink);\n",
              "        }\n",
              "      </script>\n",
              "    </div>\n",
              "  </div>\n",
              "  "
            ],
            "text/plain": [
              "     Store Number                Store Name  \\\n",
              "153      5406-945  2224 Shattuck - Berkeley   \n",
              "154       570-512                Solano Ave   \n",
              "155  17877-164526   Safeway - Berkeley #691   \n",
              "156  19864-202264         Telegraph & Ashby   \n",
              "157     9217-9253           2128 Oxford St.   \n",
              "\n",
              "                               Address      City  Longitude  Latitude  \n",
              "153   2224 Shattuck Avenue Berkeley CA  Berkeley        NaN       NaN  \n",
              "154     1799 Solano Avenue Berkeley CA  Berkeley        NaN       NaN  \n",
              "155    1444 Shattuck Place Berkeley CA  Berkeley        NaN       NaN  \n",
              "156  3001 Telegraph Avenue Berkeley CA  Berkeley        NaN       NaN  \n",
              "157     2128 Oxford Street Berkeley CA  Berkeley        NaN       NaN  "
            ]
          },
          "execution_count": 6,
          "metadata": {},
          "output_type": "execute_result"
        }
      ],
      "source": [
        "# How many rows in each column have missing values?\n",
        "print(starbucks.isnull().sum())\n",
        "\n",
        "# View rows with missing locations\n",
        "rows_with_missing = starbucks[starbucks[\"City\"]==\"Berkeley\"]\n",
        "rows_with_missing"
      ]
    },
    {
      "cell_type": "markdown",
      "metadata": {
        "id": "b4tmuJ9Ez5aY"
      },
      "source": [
        "아래 코드 셀을 사용하여 Nominatim 지오코더로 이러한 값을 채워 넣을 수 있습니다.\n",
        "\n",
        "참고로 튜토리얼에서는 `geopy.geocoders`의 `Nominatim()`을 사용하여 값을 지오코딩했습니다. 이것은 이 강의 외부에서도 사용할 수 있는 방법입니다.\n",
        "\n",
        "이 연습에서는 약간 다른 함수 `learntools.geospatial.tools`의 `Nominatim()`을 사용합니다. 이 함수는 노트북 상단에서 가져온 것이며, GeoPandas의 함수와 동일하게 작동합니다.\n",
        "\n",
        "다시 말해 다음 조건을 만족한다면:\n",
        "- 노트북 상단의 import 문을 변경하지 않고,\n",
        "- 아래 코드 셀에서 지오코딩 함수를 `geocode()`로 호출한다면,\n",
        "\n",
        "원하는 대로 코드가 작동할 것입니다!"
      ]
    },
    {
      "cell_type": "code",
      "execution_count": null,
      "metadata": {
        "id": "fvzEt-zhz5aY"
      },
      "outputs": [],
      "source": [
        "# Create the geocoder\n",
        "geolocator = Nominatim(user_agent=\"kaggle_learn\")\n",
        "\n",
        "# Your code here\n",
        "def my_geocoder(row):\n",
        "    point = geolocator.geocode(row).point\n",
        "    return pd.Series({'Latitude': point.latitude, 'Longitude': point.longitude})\n",
        "\n",
        "berkeley_locations = rows_with_missing.apply(lambda x: my_geocoder(x['Address']), axis=1)\n",
        "starbucks.update(berkeley_locations)"
      ]
    },
    {
      "cell_type": "markdown",
      "metadata": {
        "id": "oNabZsGSz5aY"
      },
      "source": [
        "### 2) 버클리 위치를 봅시다.\n",
        "\n",
        "다음 코드 셀을 사용하여 방금 찾은 버클리의 (위도, 경도) 위치를 OpenStreetMap 스타일로 시각화해 봅시다."
      ]
    },
    {
      "cell_type": "code",
      "execution_count": null,
      "metadata": {
        "colab": {
          "base_uri": "https://localhost:8080/",
          "height": 521
        },
        "id": "-VCkgONjz5aZ",
        "outputId": "b88ef74d-0049-4598-e306-258fd2188307"
      },
      "outputs": [
        {
          "data": {
            "text/html": [
              "\n",
              "        <iframe\n",
              "            width=\"100%\"\n",
              "            height=\"500px\"\n",
              "            src=\"q_2.html\"\n",
              "            frameborder=\"0\"\n",
              "            allowfullscreen\n",
              "            \n",
              "        ></iframe>\n",
              "        "
            ],
            "text/plain": [
              "<IPython.lib.display.IFrame at 0x7f4761216020>"
            ]
          },
          "execution_count": 8,
          "metadata": {},
          "output_type": "execute_result"
        }
      ],
      "source": [
        "# Create a base map\n",
        "m_2 = folium.Map(location=[37.88,-122.26], zoom_start=13)\n",
        "\n",
        "# Your code here: Add a marker for each Berkeley location\n",
        "# Add a marker for each Berkeley location\n",
        "for idx, row in starbucks[starbucks[\"City\"]=='Berkeley'].iterrows():\n",
        "    Marker([row['Latitude'], row['Longitude']]).add_to(m_2)\n",
        "\n",
        "# Uncomment to see a hint\n",
        "#q_2.a.hint()\n",
        "\n",
        "# Show the map\n",
        "embed_map(m_2, 'q_2.html')"
      ]
    },
    {
      "cell_type": "markdown",
      "metadata": {
        "id": "nGi0CDSPz5aZ"
      },
      "source": [
        "버클리의 다섯 개 위치 중 얼마나 많은 (위도, 경도) 위치가 잠재적으로 올바른 위치로 보입니다(올바른 도시에 위치해 있는지)?"
      ]
    },
    {
      "cell_type": "code",
      "execution_count": null,
      "metadata": {
        "id": "U4F1b2VHz5aZ"
      },
      "outputs": [],
      "source": [
        "# Solution: All five locations appear to be correct!"
      ]
    },
    {
      "cell_type": "markdown",
      "metadata": {
        "id": "qlj7suqSz5aZ"
      },
      "source": [
        "### 3) 데이터를 통합합시다.\n",
        "\n",
        "아래의 코드를 실행하여 캘리포니아 주의 각 카운티에 대한 이름, 면적(제곱 킬로미터 단위) 및 고유 ID(\"GEOID\" 열)를 포함한 GeoDataFrame 'CA_counties'를 로드하세요. \"geometry\" 열에는 카운티 경계를 나타내는 폴리곤이 포함되어 있습니다."
      ]
    },
    {
      "cell_type": "code",
      "execution_count": null,
      "metadata": {
        "colab": {
          "base_uri": "https://localhost:8080/",
          "height": 258
        },
        "id": "d102Ez9qz5aZ",
        "outputId": "1604ceea-7d44-4dfe-cd68-37fed278b86b"
      },
      "outputs": [
        {
          "name": "stderr",
          "output_type": "stream",
          "text": [
            "/usr/local/lib/python3.10/dist-packages/pyproj/crs/crs.py:141: FutureWarning: '+init=<authority>:<code>' syntax is deprecated. '<authority>:<code>' is the preferred initialization method. When making the change, be mindful of axis order changes: https://pyproj4.github.io/pyproj/stable/gotchas.html#axis-order-changes-in-proj-6\n",
            "  in_crs_string = _prepare_from_proj_string(in_crs_string)\n"
          ]
        },
        {
          "data": {
            "text/html": [
              "\n",
              "  <div id=\"df-d1a08e1c-3937-43bf-8705-c491304fd777\">\n",
              "    <div class=\"colab-df-container\">\n",
              "      <div>\n",
              "<style scoped>\n",
              "    .dataframe tbody tr th:only-of-type {\n",
              "        vertical-align: middle;\n",
              "    }\n",
              "\n",
              "    .dataframe tbody tr th {\n",
              "        vertical-align: top;\n",
              "    }\n",
              "\n",
              "    .dataframe thead th {\n",
              "        text-align: right;\n",
              "    }\n",
              "</style>\n",
              "<table border=\"1\" class=\"dataframe\">\n",
              "  <thead>\n",
              "    <tr style=\"text-align: right;\">\n",
              "      <th></th>\n",
              "      <th>GEOID</th>\n",
              "      <th>name</th>\n",
              "      <th>area_sqkm</th>\n",
              "      <th>geometry</th>\n",
              "    </tr>\n",
              "  </thead>\n",
              "  <tbody>\n",
              "    <tr>\n",
              "      <th>0</th>\n",
              "      <td>6091</td>\n",
              "      <td>Sierra County</td>\n",
              "      <td>2491.995494</td>\n",
              "      <td>POLYGON ((-120.65560 39.69357, -120.65554 39.6...</td>\n",
              "    </tr>\n",
              "    <tr>\n",
              "      <th>1</th>\n",
              "      <td>6067</td>\n",
              "      <td>Sacramento County</td>\n",
              "      <td>2575.258262</td>\n",
              "      <td>POLYGON ((-121.18858 38.71431, -121.18732 38.7...</td>\n",
              "    </tr>\n",
              "    <tr>\n",
              "      <th>2</th>\n",
              "      <td>6083</td>\n",
              "      <td>Santa Barbara County</td>\n",
              "      <td>9813.817958</td>\n",
              "      <td>MULTIPOLYGON (((-120.58191 34.09856, -120.5822...</td>\n",
              "    </tr>\n",
              "    <tr>\n",
              "      <th>3</th>\n",
              "      <td>6009</td>\n",
              "      <td>Calaveras County</td>\n",
              "      <td>2685.626726</td>\n",
              "      <td>POLYGON ((-120.63095 38.34111, -120.63058 38.3...</td>\n",
              "    </tr>\n",
              "    <tr>\n",
              "      <th>4</th>\n",
              "      <td>6111</td>\n",
              "      <td>Ventura County</td>\n",
              "      <td>5719.321379</td>\n",
              "      <td>MULTIPOLYGON (((-119.63631 33.27304, -119.6360...</td>\n",
              "    </tr>\n",
              "  </tbody>\n",
              "</table>\n",
              "</div>\n",
              "      <button class=\"colab-df-convert\" onclick=\"convertToInteractive('df-d1a08e1c-3937-43bf-8705-c491304fd777')\"\n",
              "              title=\"Convert this dataframe to an interactive table.\"\n",
              "              style=\"display:none;\">\n",
              "        \n",
              "  <svg xmlns=\"http://www.w3.org/2000/svg\" height=\"24px\"viewBox=\"0 0 24 24\"\n",
              "       width=\"24px\">\n",
              "    <path d=\"M0 0h24v24H0V0z\" fill=\"none\"/>\n",
              "    <path d=\"M18.56 5.44l.94 2.06.94-2.06 2.06-.94-2.06-.94-.94-2.06-.94 2.06-2.06.94zm-11 1L8.5 8.5l.94-2.06 2.06-.94-2.06-.94L8.5 2.5l-.94 2.06-2.06.94zm10 10l.94 2.06.94-2.06 2.06-.94-2.06-.94-.94-2.06-.94 2.06-2.06.94z\"/><path d=\"M17.41 7.96l-1.37-1.37c-.4-.4-.92-.59-1.43-.59-.52 0-1.04.2-1.43.59L10.3 9.45l-7.72 7.72c-.78.78-.78 2.05 0 2.83L4 21.41c.39.39.9.59 1.41.59.51 0 1.02-.2 1.41-.59l7.78-7.78 2.81-2.81c.8-.78.8-2.07 0-2.86zM5.41 20L4 18.59l7.72-7.72 1.47 1.35L5.41 20z\"/>\n",
              "  </svg>\n",
              "      </button>\n",
              "      \n",
              "  <style>\n",
              "    .colab-df-container {\n",
              "      display:flex;\n",
              "      flex-wrap:wrap;\n",
              "      gap: 12px;\n",
              "    }\n",
              "\n",
              "    .colab-df-convert {\n",
              "      background-color: #E8F0FE;\n",
              "      border: none;\n",
              "      border-radius: 50%;\n",
              "      cursor: pointer;\n",
              "      display: none;\n",
              "      fill: #1967D2;\n",
              "      height: 32px;\n",
              "      padding: 0 0 0 0;\n",
              "      width: 32px;\n",
              "    }\n",
              "\n",
              "    .colab-df-convert:hover {\n",
              "      background-color: #E2EBFA;\n",
              "      box-shadow: 0px 1px 2px rgba(60, 64, 67, 0.3), 0px 1px 3px 1px rgba(60, 64, 67, 0.15);\n",
              "      fill: #174EA6;\n",
              "    }\n",
              "\n",
              "    [theme=dark] .colab-df-convert {\n",
              "      background-color: #3B4455;\n",
              "      fill: #D2E3FC;\n",
              "    }\n",
              "\n",
              "    [theme=dark] .colab-df-convert:hover {\n",
              "      background-color: #434B5C;\n",
              "      box-shadow: 0px 1px 3px 1px rgba(0, 0, 0, 0.15);\n",
              "      filter: drop-shadow(0px 1px 2px rgba(0, 0, 0, 0.3));\n",
              "      fill: #FFFFFF;\n",
              "    }\n",
              "  </style>\n",
              "\n",
              "      <script>\n",
              "        const buttonEl =\n",
              "          document.querySelector('#df-d1a08e1c-3937-43bf-8705-c491304fd777 button.colab-df-convert');\n",
              "        buttonEl.style.display =\n",
              "          google.colab.kernel.accessAllowed ? 'block' : 'none';\n",
              "\n",
              "        async function convertToInteractive(key) {\n",
              "          const element = document.querySelector('#df-d1a08e1c-3937-43bf-8705-c491304fd777');\n",
              "          const dataTable =\n",
              "            await google.colab.kernel.invokeFunction('convertToInteractive',\n",
              "                                                     [key], {});\n",
              "          if (!dataTable) return;\n",
              "\n",
              "          const docLinkHtml = 'Like what you see? Visit the ' +\n",
              "            '<a target=\"_blank\" href=https://colab.research.google.com/notebooks/data_table.ipynb>data table notebook</a>'\n",
              "            + ' to learn more about interactive tables.';\n",
              "          element.innerHTML = '';\n",
              "          dataTable['output_type'] = 'display_data';\n",
              "          await google.colab.output.renderOutput(dataTable, element);\n",
              "          const docLink = document.createElement('div');\n",
              "          docLink.innerHTML = docLinkHtml;\n",
              "          element.appendChild(docLink);\n",
              "        }\n",
              "      </script>\n",
              "    </div>\n",
              "  </div>\n",
              "  "
            ],
            "text/plain": [
              "   GEOID                  name    area_sqkm  \\\n",
              "0   6091         Sierra County  2491.995494   \n",
              "1   6067     Sacramento County  2575.258262   \n",
              "2   6083  Santa Barbara County  9813.817958   \n",
              "3   6009      Calaveras County  2685.626726   \n",
              "4   6111        Ventura County  5719.321379   \n",
              "\n",
              "                                            geometry  \n",
              "0  POLYGON ((-120.65560 39.69357, -120.65554 39.6...  \n",
              "1  POLYGON ((-121.18858 38.71431, -121.18732 38.7...  \n",
              "2  MULTIPOLYGON (((-120.58191 34.09856, -120.5822...  \n",
              "3  POLYGON ((-120.63095 38.34111, -120.63058 38.3...  \n",
              "4  MULTIPOLYGON (((-119.63631 33.27304, -119.6360...  "
            ]
          },
          "execution_count": 9,
          "metadata": {},
          "output_type": "execute_result"
        }
      ],
      "source": [
        "CA_counties = gpd.read_file(\"/content/drive/MyDrive/2023 데이터마이닝/dataset/CA_county_boundaries/CA_county_boundaries.shp\")\n",
        "CA_counties.crs = {'init': 'epsg:4326'}\n",
        "CA_counties.head()"
      ]
    },
    {
      "cell_type": "markdown",
      "metadata": {
        "id": "gbzJ4UUhz5aa"
      },
      "source": [
        "다음으로, 세 개의 DataFrame을 생성합니다:\n",
        "- `CA_pop`는 각 카운티의 인구 추정치를 포함합니다.\n",
        "- `CA_high_earners`는 연간 소득이 최소 $150,000인 가구 수를 포함합니다.\n",
        "- `CA_median_age`는 각 카운티의 중간 연령을 포함합니다."
      ]
    },
    {
      "cell_type": "code",
      "execution_count": null,
      "metadata": {
        "id": "nY0iES6jz5aa"
      },
      "outputs": [],
      "source": [
        "CA_pop = pd.read_csv(\"/content/drive/MyDrive/2023 데이터마이닝/dataset/CA_county_population.csv\", index_col=\"GEOID\")\n",
        "CA_high_earners = pd.read_csv(\"/content/drive/MyDrive/2023 데이터마이닝/dataset/CA_county_high_earners.csv\", index_col=\"GEOID\")\n",
        "CA_median_age = pd.read_csv(\"/content/drive/MyDrive/2023 데이터마이닝/dataset/CA_county_median_age.csv\", index_col=\"GEOID\")"
      ]
    },
    {
      "cell_type": "markdown",
      "metadata": {
        "id": "P-BXA5xpz5aa"
      },
      "source": [
        "다음 코드 셀을 사용하여 `CA_counties` GeoDataFrame을 `CA_pop`, `CA_high_earners`, `CA_median_age`와 조인합니다.\n",
        "\n",
        "결과 GeoDataFrame의 이름을 `CA_stats`로 지정하고, \"GEOID\", \"name\", \"area_sqkm\", \"geometry\", \"population\", \"high_earners\", \"median_age\"의 8개 열이 있는지 확인하세요."
      ]
    },
    {
      "cell_type": "code",
      "execution_count": null,
      "metadata": {
        "id": "W8TcG9sYz5aa"
      },
      "outputs": [],
      "source": [
        "# Your code here\n",
        "cols_to_add = CA_pop.join([CA_high_earners, CA_median_age]).reset_index()\n",
        "CA_stats = CA_counties.merge(cols_to_add, on=\"GEOID\")"
      ]
    },
    {
      "cell_type": "markdown",
      "metadata": {
        "id": "9rYJonWmz5aa"
      },
      "source": [
        "이제 모든 데이터를 하나의 장소에 모았으므로, 여러 열을 조합하여 통계를 계산하는 것이 훨씬 쉬워졌습니다. 다음 코드 셀을 실행하여 \"density\" 열을 생성하여 인구 밀도를 계산하세요."
      ]
    },
    {
      "cell_type": "code",
      "execution_count": null,
      "metadata": {
        "id": "rMyfYSkEz5ab"
      },
      "outputs": [],
      "source": [
        "CA_stats[\"density\"] = CA_stats[\"population\"] / CA_stats[\"area_sqkm\"]"
      ]
    },
    {
      "cell_type": "markdown",
      "metadata": {
        "id": "TvGtYsJQz5ab"
      },
      "source": [
        "### 4) 어떤 지역이 유망해 보일까요?\n",
        "\n",
        "모든 정보를 하나의 GeoDataFrame으로 병합하면 특정 기준을 충족하는 지역을 선택하는 것이 훨씬 쉬워집니다.\n",
        "\n",
        "다음 코드 셀을 사용하여 `CA_stats` GeoDataFrame에서 일부 행(및 모든 열)을 포함하는 GeoDataFrame `sel_counties`를 생성하세요. 특히 다음 조건을 충족하는 지역을 선택해야 합니다.\n",
        "- 연간 \\$150,000 이상의 소득을 가진 가구가 적어도 100,000개 이상 있는 경우\n",
        "- 중간 연령이 38.5보다 작은 경우\n",
        "- 주민 밀도가 285 이상 (평방 킬로미터당)\n",
        "\n",
        "또한, 선택한 지역은 다음 기준 중 하나 이상을 충족해야 합니다.\n",
        "- 연간 \\$150,000 이상의 소득을 가진 가구가 적어도 500,000개 이상 있는 경우\n",
        "- 중간 연령이 35.5보다 작은 경우\n",
        "- 주민 밀도가 1400 이상 (평방 킬로미터당)"
      ]
    },
    {
      "cell_type": "code",
      "execution_count": null,
      "metadata": {
        "id": "K8RGDNwSz5ab"
      },
      "outputs": [],
      "source": [
        "# Your code here\n",
        "sel_counties = CA_stats[((CA_stats.high_earners > 100000) &\n",
        "                         (CA_stats.median_age < 38.5) &\n",
        "                         (CA_stats.density > 285) &\n",
        "                         ((CA_stats.median_age < 35.5) |\n",
        "                         (CA_stats.density > 1400) |\n",
        "                         (CA_stats.high_earners > 500000)))]"
      ]
    },
    {
      "cell_type": "markdown",
      "metadata": {
        "id": "iwhzfpvPz5ab"
      },
      "source": [
        "### 5) 얼마나 많은 매장을 찾았나요?\n",
        "\n",
        "다음 Starbucks Reserve Roastery 위치를 찾을 때, 선택한 지역 내의 모든 매장을 고려하고 싶습니다. 따라서 선택한 지역 내에 몇 개의 매장이 있는지 알아보려고 합니다.\n",
        "\n",
        "이 질문에 답하기 위해, 다음 코드 셀을 실행하여 모든 스타벅스 위치를 포함하는 GeoDataFrame `starbucks_gdf`를 생성하세요."
      ]
    },
    {
      "cell_type": "code",
      "execution_count": null,
      "metadata": {
        "colab": {
          "base_uri": "https://localhost:8080/"
        },
        "id": "X7Eb7D28z5ab",
        "outputId": "a3bbbfb6-9f32-4b37-e14b-b26093e0c238"
      },
      "outputs": [
        {
          "name": "stderr",
          "output_type": "stream",
          "text": [
            "/usr/local/lib/python3.10/dist-packages/pyproj/crs/crs.py:141: FutureWarning: '+init=<authority>:<code>' syntax is deprecated. '<authority>:<code>' is the preferred initialization method. When making the change, be mindful of axis order changes: https://pyproj4.github.io/pyproj/stable/gotchas.html#axis-order-changes-in-proj-6\n",
            "  in_crs_string = _prepare_from_proj_string(in_crs_string)\n"
          ]
        }
      ],
      "source": [
        "starbucks_gdf = gpd.GeoDataFrame(starbucks, geometry=gpd.points_from_xy(starbucks.Longitude, starbucks.Latitude))\n",
        "starbucks_gdf.crs = {'init': 'epsg:4326'}"
      ]
    },
    {
      "cell_type": "markdown",
      "metadata": {
        "id": "l_k6i2Juz5ab"
      },
      "source": [
        "당신이 선택한 지역에는 몇 개의 스타벅스 매장이 있나요?"
      ]
    },
    {
      "cell_type": "code",
      "execution_count": null,
      "metadata": {
        "colab": {
          "base_uri": "https://localhost:8080/"
        },
        "id": "03gDOFlgz5ac",
        "outputId": "7e96ec84-b049-4930-d239-beffc8b76d8a"
      },
      "outputs": [
        {
          "data": {
            "text/plain": [
              "1043"
            ]
          },
          "execution_count": 20,
          "metadata": {},
          "output_type": "execute_result"
        }
      ],
      "source": [
        "# Fill in your answer\n",
        "locations_of_interest = gpd.sjoin(starbucks_gdf, sel_counties)\n",
        "num_stores = len(locations_of_interest)\n",
        "num_stores"
      ]
    },
    {
      "cell_type": "markdown",
      "metadata": {
        "id": "aQdGAFxLz5ac"
      },
      "source": [
        "### 6) 매장 위치 시각화하기.\n",
        "\n",
        "이전 질문에서 확인한 매장들의 위치를 보여주는 지도를 생성하세요."
      ]
    },
    {
      "cell_type": "code",
      "execution_count": null,
      "metadata": {
        "colab": {
          "base_uri": "https://localhost:8080/",
          "height": 521
        },
        "id": "jrtZMK08z5ad",
        "outputId": "53b30d1b-7974-4a66-83d0-313cbe680a88"
      },
      "outputs": [
        {
          "data": {
            "text/html": [
              "\n",
              "        <iframe\n",
              "            width=\"100%\"\n",
              "            height=\"500px\"\n",
              "            src=\"q_6.html\"\n",
              "            frameborder=\"0\"\n",
              "            allowfullscreen\n",
              "            \n",
              "        ></iframe>\n",
              "        "
            ],
            "text/plain": [
              "<IPython.lib.display.IFrame at 0x7f475bd89870>"
            ]
          },
          "execution_count": 21,
          "metadata": {},
          "output_type": "execute_result"
        }
      ],
      "source": [
        "# Create a base map\n",
        "m_6 = folium.Map(location=[37,-120], zoom_start=6)\n",
        "\n",
        "# Your code here: show selected store locations\n",
        "mc = MarkerCluster()\n",
        "\n",
        "locations_of_interest = gpd.sjoin(starbucks_gdf, sel_counties)\n",
        "for idx, row in locations_of_interest.iterrows():\n",
        "    if not math.isnan(row['Longitude']) and not math.isnan(row['Latitude']):\n",
        "        mc.add_child(folium.Marker([row['Latitude'], row['Longitude']]))\n",
        "\n",
        "m_6.add_child(mc)\n",
        "\n",
        "embed_map(m_6, 'q_6.html')"
      ]
    }
  ],
  "metadata": {
    "colab": {
      "provenance": []
    },
    "kernelspec": {
      "display_name": "Python 3.9.1 64-bit",
      "language": "python",
      "name": "python3"
    },
    "language_info": {
      "codemirror_mode": {
        "name": "ipython",
        "version": 3
      },
      "file_extension": ".py",
      "mimetype": "text/x-python",
      "name": "python",
      "nbconvert_exporter": "python",
      "pygments_lexer": "ipython3",
      "version": "3.9.1"
    },
    "vscode": {
      "interpreter": {
        "hash": "397704579725e15f5c7cb49fe5f0341eb7531c82d19f2c29d197e8b64ab5776b"
      }
    }
  },
  "nbformat": 4,
  "nbformat_minor": 0
}
